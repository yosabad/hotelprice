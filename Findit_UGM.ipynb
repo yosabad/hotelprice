{
 "cells": [
  {
   "cell_type": "code",
   "execution_count": 312,
   "metadata": {
    "cell_id": "37353faf2e3b45ca989d4f5d126d372f",
    "deepnote_cell_type": "code",
    "deepnote_to_be_reexecuted": false,
    "execution_millis": 3816,
    "execution_start": 1685700235739,
    "source_hash": "4e4788e3"
   },
   "outputs": [],
   "source": [
    "# Import library\n",
    "import pandas as pd\n",
    "import numpy as np\n",
    "import seaborn as sns\n",
    "import matplotlib.pyplot as plt\n",
    "\n",
    "from scipy.stats import f_oneway\n",
    "import scipy.stats as stats\n",
    "\n",
    "from sklearn.preprocessing import StandardScaler, MinMaxScaler, OneHotEncoder\n",
    "from sklearn.feature_selection import SelectKBest, f_regression, RFE\n",
    "from sklearn.model_selection import train_test_split, RepeatedKFold, GridSearchCV, KFold, cross_val_score\n",
    "from sklearn.pipeline import Pipeline\n",
    "\n",
    "from sklearn.linear_model import LinearRegression\n",
    "from sklearn.tree import DecisionTreeClassifier, DecisionTreeRegressor\n",
    "from sklearn.ensemble import RandomForestRegressor, ExtraTreesRegressor\n",
    "from xgboost import XGBRegressor\n",
    "\n",
    "from sklearn.metrics import mean_absolute_error, mean_squared_error, explained_variance_score, r2_score\n",
    "\n",
    "import warnings\n",
    "warnings.filterwarnings(\"ignore\")\n",
    "# Running on google colab\n",
    "# from pycaret.regression import setup, compare_models"
   ]
  },
  {
   "cell_type": "code",
   "execution_count": 6,
   "metadata": {
    "cell_id": "9c3cf05084a44d9493b4ecb0a5068ba5",
    "deepnote_cell_type": "code",
    "deepnote_to_be_reexecuted": false,
    "execution_millis": 56,
    "execution_start": 1685700239558,
    "source_hash": "a847b6ee"
   },
   "outputs": [],
   "source": [
    "# Read train and test dataset\n",
    "train_features = pd.read_csv('train_features.csv')\n",
    "train_labels = pd.read_csv('train_label_clean.csv')\n",
    "test_features = pd.read_csv('test_feature.csv')"
   ]
  },
  {
   "cell_type": "markdown",
   "metadata": {
    "cell_id": "e1c5f120f2a8427da8dcb0f4f99e824a",
    "deepnote_cell_type": "markdown"
   },
   "source": [
    "## Overview"
   ]
  },
  {
   "cell_type": "code",
   "execution_count": 7,
   "metadata": {
    "cell_id": "95fc79fbbf3547eba94c17256a9c1180",
    "deepnote_cell_type": "code",
    "deepnote_to_be_reexecuted": false,
    "execution_millis": 778,
    "execution_start": 1685700239639,
    "source_hash": "13fcf5d"
   },
   "outputs": [
    {
     "data": {
      "text/html": [
       "<div>\n",
       "<style scoped>\n",
       "    .dataframe tbody tr th:only-of-type {\n",
       "        vertical-align: middle;\n",
       "    }\n",
       "\n",
       "    .dataframe tbody tr th {\n",
       "        vertical-align: top;\n",
       "    }\n",
       "\n",
       "    .dataframe thead th {\n",
       "        text-align: right;\n",
       "    }\n",
       "</style>\n",
       "<table border=\"1\" class=\"dataframe\">\n",
       "  <thead>\n",
       "    <tr style=\"text-align: right;\">\n",
       "      <th></th>\n",
       "      <th>facilities</th>\n",
       "      <th>rating</th>\n",
       "      <th>location</th>\n",
       "    </tr>\n",
       "  </thead>\n",
       "  <tbody>\n",
       "    <tr>\n",
       "      <th>0</th>\n",
       "      <td>RestaurantBARSwimmingPools</td>\n",
       "      <td>7.8 Very GoodFrom 10 reviews</td>\n",
       "      <td>Stokol</td>\n",
       "    </tr>\n",
       "    <tr>\n",
       "      <th>1</th>\n",
       "      <td>intrnetRestaurantgym</td>\n",
       "      <td>5.6 GoodFrom 4 reviews</td>\n",
       "      <td>Machlessvile</td>\n",
       "    </tr>\n",
       "    <tr>\n",
       "      <th>2</th>\n",
       "      <td>restaurantgympoolBar</td>\n",
       "      <td>7.2 Very GoodFrom 38 reviews</td>\n",
       "      <td>Wanderland</td>\n",
       "    </tr>\n",
       "  </tbody>\n",
       "</table>\n",
       "</div>"
      ],
      "text/plain": [
       "                   facilities                        rating      location\n",
       "0  RestaurantBARSwimmingPools  7.8 Very GoodFrom 10 reviews        Stokol\n",
       "1        intrnetRestaurantgym        5.6 GoodFrom 4 reviews  Machlessvile\n",
       "2        restaurantgympoolBar  7.2 Very GoodFrom 38 reviews    Wanderland"
      ]
     },
     "execution_count": 7,
     "metadata": {},
     "output_type": "execute_result"
    }
   ],
   "source": [
    "train_features.head(3)"
   ]
  },
  {
   "cell_type": "code",
   "execution_count": 8,
   "metadata": {
    "cell_id": "47201cca57b54887889d46abee69f3ed",
    "deepnote_cell_type": "code",
    "deepnote_to_be_reexecuted": false,
    "execution_millis": 602,
    "execution_start": 1685700239817,
    "source_hash": "576c3e05"
   },
   "outputs": [
    {
     "data": {
      "text/html": [
       "<div>\n",
       "<style scoped>\n",
       "    .dataframe tbody tr th:only-of-type {\n",
       "        vertical-align: middle;\n",
       "    }\n",
       "\n",
       "    .dataframe tbody tr th {\n",
       "        vertical-align: top;\n",
       "    }\n",
       "\n",
       "    .dataframe thead th {\n",
       "        text-align: right;\n",
       "    }\n",
       "</style>\n",
       "<table border=\"1\" class=\"dataframe\">\n",
       "  <thead>\n",
       "    <tr style=\"text-align: right;\">\n",
       "      <th></th>\n",
       "      <th>Price</th>\n",
       "    </tr>\n",
       "  </thead>\n",
       "  <tbody>\n",
       "    <tr>\n",
       "      <th>0</th>\n",
       "      <td>13500</td>\n",
       "    </tr>\n",
       "    <tr>\n",
       "      <th>1</th>\n",
       "      <td>13000</td>\n",
       "    </tr>\n",
       "    <tr>\n",
       "      <th>2</th>\n",
       "      <td>19000</td>\n",
       "    </tr>\n",
       "  </tbody>\n",
       "</table>\n",
       "</div>"
      ],
      "text/plain": [
       "   Price\n",
       "0  13500\n",
       "1  13000\n",
       "2  19000"
      ]
     },
     "execution_count": 8,
     "metadata": {},
     "output_type": "execute_result"
    }
   ],
   "source": [
    "train_labels.head(3)"
   ]
  },
  {
   "cell_type": "code",
   "execution_count": 9,
   "metadata": {
    "cell_id": "435dab7283974964b6dd56c5ed8ce9f7",
    "deepnote_cell_type": "code",
    "deepnote_to_be_reexecuted": false,
    "execution_millis": 600,
    "execution_start": 1685700239819,
    "source_hash": "800c3edf"
   },
   "outputs": [
    {
     "data": {
      "text/html": [
       "<div>\n",
       "<style scoped>\n",
       "    .dataframe tbody tr th:only-of-type {\n",
       "        vertical-align: middle;\n",
       "    }\n",
       "\n",
       "    .dataframe tbody tr th {\n",
       "        vertical-align: top;\n",
       "    }\n",
       "\n",
       "    .dataframe thead th {\n",
       "        text-align: right;\n",
       "    }\n",
       "</style>\n",
       "<table border=\"1\" class=\"dataframe\">\n",
       "  <thead>\n",
       "    <tr style=\"text-align: right;\">\n",
       "      <th></th>\n",
       "      <th>ID</th>\n",
       "      <th>facilities</th>\n",
       "      <th>rating</th>\n",
       "      <th>location</th>\n",
       "    </tr>\n",
       "  </thead>\n",
       "  <tbody>\n",
       "    <tr>\n",
       "      <th>0</th>\n",
       "      <td>0</td>\n",
       "      <td>GymrestaurantbarInternetSwimmingPools</td>\n",
       "      <td>8.0 ExcellentFrom 1 reviews</td>\n",
       "      <td>Stokol</td>\n",
       "    </tr>\n",
       "    <tr>\n",
       "      <th>1</th>\n",
       "      <td>1</td>\n",
       "      <td>Poolrestaurantgyminternetbar</td>\n",
       "      <td>7.4 Very GoodFrom 22 reviews</td>\n",
       "      <td>Hallerson</td>\n",
       "    </tr>\n",
       "    <tr>\n",
       "      <th>2</th>\n",
       "      <td>2</td>\n",
       "      <td>BARSwimmingPoolsInternetgym</td>\n",
       "      <td>0.0 FairFrom 4 reviews</td>\n",
       "      <td>Hallerson</td>\n",
       "    </tr>\n",
       "  </tbody>\n",
       "</table>\n",
       "</div>"
      ],
      "text/plain": [
       "   ID                             facilities                        rating  \\\n",
       "0   0  GymrestaurantbarInternetSwimmingPools   8.0 ExcellentFrom 1 reviews   \n",
       "1   1           Poolrestaurantgyminternetbar  7.4 Very GoodFrom 22 reviews   \n",
       "2   2            BARSwimmingPoolsInternetgym        0.0 FairFrom 4 reviews   \n",
       "\n",
       "    location  \n",
       "0     Stokol  \n",
       "1  Hallerson  \n",
       "2  Hallerson  "
      ]
     },
     "execution_count": 9,
     "metadata": {},
     "output_type": "execute_result"
    }
   ],
   "source": [
    "test_features.head(3)"
   ]
  },
  {
   "cell_type": "markdown",
   "metadata": {
    "cell_id": "2721f18455e54bd8bd01db6b6b32123e",
    "deepnote_cell_type": "markdown"
   },
   "source": [
    "## Merge the features with label"
   ]
  },
  {
   "cell_type": "code",
   "execution_count": 37,
   "metadata": {
    "cell_id": "88b7027575734569886c22dbef5928eb",
    "deepnote_cell_type": "code",
    "deepnote_to_be_reexecuted": false,
    "execution_millis": 601,
    "execution_start": 1685700239820,
    "source_hash": "2ea3a0b1"
   },
   "outputs": [
    {
     "data": {
      "text/html": [
       "<div>\n",
       "<style scoped>\n",
       "    .dataframe tbody tr th:only-of-type {\n",
       "        vertical-align: middle;\n",
       "    }\n",
       "\n",
       "    .dataframe tbody tr th {\n",
       "        vertical-align: top;\n",
       "    }\n",
       "\n",
       "    .dataframe thead th {\n",
       "        text-align: right;\n",
       "    }\n",
       "</style>\n",
       "<table border=\"1\" class=\"dataframe\">\n",
       "  <thead>\n",
       "    <tr style=\"text-align: right;\">\n",
       "      <th></th>\n",
       "      <th>facilities</th>\n",
       "      <th>rating</th>\n",
       "      <th>location</th>\n",
       "      <th>Price</th>\n",
       "    </tr>\n",
       "  </thead>\n",
       "  <tbody>\n",
       "    <tr>\n",
       "      <th>0</th>\n",
       "      <td>RestaurantBARSwimmingPools</td>\n",
       "      <td>7.8 Very GoodFrom 10 reviews</td>\n",
       "      <td>Stokol</td>\n",
       "      <td>13500</td>\n",
       "    </tr>\n",
       "    <tr>\n",
       "      <th>1</th>\n",
       "      <td>intrnetRestaurantgym</td>\n",
       "      <td>5.6 GoodFrom 4 reviews</td>\n",
       "      <td>Machlessvile</td>\n",
       "      <td>13000</td>\n",
       "    </tr>\n",
       "    <tr>\n",
       "      <th>2</th>\n",
       "      <td>restaurantgympoolBar</td>\n",
       "      <td>7.2 Very GoodFrom 38 reviews</td>\n",
       "      <td>Wanderland</td>\n",
       "      <td>19000</td>\n",
       "    </tr>\n",
       "  </tbody>\n",
       "</table>\n",
       "</div>"
      ],
      "text/plain": [
       "                   facilities                        rating      location  \\\n",
       "0  RestaurantBARSwimmingPools  7.8 Very GoodFrom 10 reviews        Stokol   \n",
       "1        intrnetRestaurantgym        5.6 GoodFrom 4 reviews  Machlessvile   \n",
       "2        restaurantgympoolBar  7.2 Very GoodFrom 38 reviews    Wanderland   \n",
       "\n",
       "   Price  \n",
       "0  13500  \n",
       "1  13000  \n",
       "2  19000  "
      ]
     },
     "execution_count": 37,
     "metadata": {},
     "output_type": "execute_result"
    }
   ],
   "source": [
    "kyozo = pd.merge(train_features, train_labels_clean, left_index=True, right_index=True)\n",
    "kyozo.head(3)"
   ]
  },
  {
   "cell_type": "code",
   "execution_count": 38,
   "metadata": {
    "cell_id": "a7241d722ea44269b430bc5529a49cdd",
    "deepnote_cell_type": "code",
    "deepnote_to_be_reexecuted": false,
    "execution_millis": 25,
    "execution_start": 1685700240396,
    "source_hash": "30a6dc34"
   },
   "outputs": [
    {
     "name": "stdout",
     "output_type": "stream",
     "text": [
      "<class 'pandas.core.frame.DataFrame'>\n",
      "RangeIndex: 3066 entries, 0 to 3065\n",
      "Data columns (total 4 columns):\n",
      " #   Column      Non-Null Count  Dtype \n",
      "---  ------      --------------  ----- \n",
      " 0   facilities  2765 non-null   object\n",
      " 1   rating      2429 non-null   object\n",
      " 2   location    3066 non-null   object\n",
      " 3   Price       3066 non-null   int64 \n",
      "dtypes: int64(1), object(3)\n",
      "memory usage: 95.9+ KB\n"
     ]
    }
   ],
   "source": [
    "kyozo.info()"
   ]
  },
  {
   "cell_type": "markdown",
   "metadata": {
    "cell_id": "3c602683ded04c6f80064a05fd99a5dc",
    "deepnote_cell_type": "markdown"
   },
   "source": [
    "## Check null and duplicated values"
   ]
  },
  {
   "cell_type": "code",
   "execution_count": 39,
   "metadata": {
    "cell_id": "1a5dd83577a746c2b944767ed0ca769d",
    "deepnote_cell_type": "code",
    "deepnote_to_be_reexecuted": false,
    "execution_millis": 23,
    "execution_start": 1685700240398,
    "source_hash": "83acd982"
   },
   "outputs": [
    {
     "data": {
      "text/plain": [
       "88"
      ]
     },
     "execution_count": 39,
     "metadata": {},
     "output_type": "execute_result"
    }
   ],
   "source": [
    "kyozo.duplicated().sum()"
   ]
  },
  {
   "cell_type": "code",
   "execution_count": 40,
   "metadata": {
    "cell_id": "e866c6a7e9204b9bb3b47189b630641a",
    "deepnote_cell_type": "code",
    "deepnote_to_be_reexecuted": false,
    "execution_millis": 24,
    "execution_start": 1685700240397,
    "source_hash": "36caf04f"
   },
   "outputs": [
    {
     "data": {
      "text/plain": [
       "facilities    301\n",
       "rating        637\n",
       "location        0\n",
       "Price           0\n",
       "dtype: int64"
      ]
     },
     "execution_count": 40,
     "metadata": {},
     "output_type": "execute_result"
    }
   ],
   "source": [
    "kyozo.isna().sum()"
   ]
  },
  {
   "cell_type": "markdown",
   "metadata": {
    "cell_id": "ad1610ef06ca4f91b2d9c8d07f724af0",
    "deepnote_cell_type": "text-cell-h3",
    "formattedRanges": []
   },
   "source": [
    "### Drop null and duplicated values"
   ]
  },
  {
   "cell_type": "code",
   "execution_count": 41,
   "metadata": {
    "cell_id": "dd8685b2b6d94c938b9824e9a23cf9de",
    "deepnote_cell_type": "code",
    "deepnote_to_be_reexecuted": false,
    "execution_millis": 25,
    "execution_start": 1685700240399,
    "source_hash": "74f62a36"
   },
   "outputs": [],
   "source": [
    "kyozo.drop_duplicates(inplace=True)"
   ]
  },
  {
   "cell_type": "code",
   "execution_count": 42,
   "metadata": {
    "cell_id": "174698e91a1444909103168e3af21133",
    "deepnote_cell_type": "code",
    "deepnote_to_be_reexecuted": false,
    "execution_millis": 24,
    "execution_start": 1685700240400,
    "source_hash": "36caf04f"
   },
   "outputs": [
    {
     "data": {
      "text/plain": [
       "facilities    243\n",
       "rating        576\n",
       "location        0\n",
       "Price           0\n",
       "dtype: int64"
      ]
     },
     "execution_count": 42,
     "metadata": {},
     "output_type": "execute_result"
    }
   ],
   "source": [
    "kyozo.isna().sum()"
   ]
  },
  {
   "cell_type": "code",
   "execution_count": 43,
   "metadata": {
    "cell_id": "a3e99e07b8c044b88703f2793337b331",
    "deepnote_cell_type": "code",
    "deepnote_to_be_reexecuted": false,
    "execution_millis": 24,
    "execution_start": 1685700240400,
    "source_hash": "60cb7960"
   },
   "outputs": [
    {
     "data": {
      "text/html": [
       "<div>\n",
       "<style scoped>\n",
       "    .dataframe tbody tr th:only-of-type {\n",
       "        vertical-align: middle;\n",
       "    }\n",
       "\n",
       "    .dataframe tbody tr th {\n",
       "        vertical-align: top;\n",
       "    }\n",
       "\n",
       "    .dataframe thead th {\n",
       "        text-align: right;\n",
       "    }\n",
       "</style>\n",
       "<table border=\"1\" class=\"dataframe\">\n",
       "  <thead>\n",
       "    <tr style=\"text-align: right;\">\n",
       "      <th></th>\n",
       "      <th>facilities</th>\n",
       "      <th>rating</th>\n",
       "      <th>location</th>\n",
       "      <th>Price</th>\n",
       "    </tr>\n",
       "  </thead>\n",
       "  <tbody>\n",
       "    <tr>\n",
       "      <th>16</th>\n",
       "      <td>NaN</td>\n",
       "      <td>NaN</td>\n",
       "      <td>Machlessvile</td>\n",
       "      <td>3200</td>\n",
       "    </tr>\n",
       "    <tr>\n",
       "      <th>44</th>\n",
       "      <td>NaN</td>\n",
       "      <td>NaN</td>\n",
       "      <td>Uberlandia</td>\n",
       "      <td>17000</td>\n",
       "    </tr>\n",
       "    <tr>\n",
       "      <th>58</th>\n",
       "      <td>NaN</td>\n",
       "      <td>NaN</td>\n",
       "      <td>Stokol</td>\n",
       "      <td>1800</td>\n",
       "    </tr>\n",
       "    <tr>\n",
       "      <th>73</th>\n",
       "      <td>NaN</td>\n",
       "      <td>NaN</td>\n",
       "      <td>Stokol</td>\n",
       "      <td>23050</td>\n",
       "    </tr>\n",
       "    <tr>\n",
       "      <th>91</th>\n",
       "      <td>NaN</td>\n",
       "      <td>NaN</td>\n",
       "      <td>Stokol</td>\n",
       "      <td>30000</td>\n",
       "    </tr>\n",
       "    <tr>\n",
       "      <th>...</th>\n",
       "      <td>...</td>\n",
       "      <td>...</td>\n",
       "      <td>...</td>\n",
       "      <td>...</td>\n",
       "    </tr>\n",
       "    <tr>\n",
       "      <th>2975</th>\n",
       "      <td>NaN</td>\n",
       "      <td>NaN</td>\n",
       "      <td>Hallerson</td>\n",
       "      <td>3900</td>\n",
       "    </tr>\n",
       "    <tr>\n",
       "      <th>2996</th>\n",
       "      <td>NaN</td>\n",
       "      <td>NaN</td>\n",
       "      <td>Uberlandia</td>\n",
       "      <td>8000</td>\n",
       "    </tr>\n",
       "    <tr>\n",
       "      <th>2998</th>\n",
       "      <td>NaN</td>\n",
       "      <td>NaN</td>\n",
       "      <td>Machlessvile</td>\n",
       "      <td>3500</td>\n",
       "    </tr>\n",
       "    <tr>\n",
       "      <th>3030</th>\n",
       "      <td>NaN</td>\n",
       "      <td>NaN</td>\n",
       "      <td>Willsmian</td>\n",
       "      <td>3700</td>\n",
       "    </tr>\n",
       "    <tr>\n",
       "      <th>3037</th>\n",
       "      <td>NaN</td>\n",
       "      <td>NaN</td>\n",
       "      <td>Wanderland</td>\n",
       "      <td>20000</td>\n",
       "    </tr>\n",
       "  </tbody>\n",
       "</table>\n",
       "<p>150 rows × 4 columns</p>\n",
       "</div>"
      ],
      "text/plain": [
       "     facilities rating      location  Price\n",
       "16          NaN    NaN  Machlessvile   3200\n",
       "44          NaN    NaN    Uberlandia  17000\n",
       "58          NaN    NaN        Stokol   1800\n",
       "73          NaN    NaN        Stokol  23050\n",
       "91          NaN    NaN        Stokol  30000\n",
       "...         ...    ...           ...    ...\n",
       "2975        NaN    NaN     Hallerson   3900\n",
       "2996        NaN    NaN    Uberlandia   8000\n",
       "2998        NaN    NaN  Machlessvile   3500\n",
       "3030        NaN    NaN     Willsmian   3700\n",
       "3037        NaN    NaN    Wanderland  20000\n",
       "\n",
       "[150 rows x 4 columns]"
      ]
     },
     "execution_count": 43,
     "metadata": {},
     "output_type": "execute_result"
    }
   ],
   "source": [
    "kyozo[kyozo['facilities'].isna() & kyozo['rating'].isna()]"
   ]
  },
  {
   "cell_type": "code",
   "execution_count": 54,
   "metadata": {},
   "outputs": [],
   "source": [
    "kyozo.dropna(subset=['facilities', 'rating'], how='all',inplace=True)"
   ]
  },
  {
   "cell_type": "code",
   "execution_count": 55,
   "metadata": {
    "scrolled": true
   },
   "outputs": [
    {
     "data": {
      "text/plain": [
       "facilities     93\n",
       "rating        426\n",
       "location        0\n",
       "Price           0\n",
       "dtype: int64"
      ]
     },
     "execution_count": 55,
     "metadata": {},
     "output_type": "execute_result"
    }
   ],
   "source": [
    "kyozo.isna().sum()"
   ]
  },
  {
   "cell_type": "code",
   "execution_count": 63,
   "metadata": {},
   "outputs": [],
   "source": [
    "kyozo.dropna(inplace=True)"
   ]
  },
  {
   "cell_type": "markdown",
   "metadata": {
    "cell_id": "802dc0482eb341189d1aedadc391b089",
    "deepnote_cell_type": "markdown"
   },
   "source": [
    "## Check unique values"
   ]
  },
  {
   "cell_type": "code",
   "execution_count": 64,
   "metadata": {
    "cell_id": "5dee42db5eb644da892c4389a893d276",
    "deepnote_cell_type": "code",
    "deepnote_to_be_reexecuted": false,
    "execution_millis": 21,
    "execution_start": 1685700240403,
    "source_hash": "ac4a88a8"
   },
   "outputs": [
    {
     "data": {
      "text/plain": [
       "facilities    1076\n",
       "rating         300\n",
       "location         8\n",
       "Price          129\n",
       "dtype: int64"
      ]
     },
     "execution_count": 64,
     "metadata": {},
     "output_type": "execute_result"
    }
   ],
   "source": [
    "kyozo.nunique()"
   ]
  },
  {
   "cell_type": "code",
   "execution_count": 65,
   "metadata": {
    "cell_id": "09c73ed17a404c12a725ffdb643095e2",
    "deepnote_cell_type": "code",
    "deepnote_to_be_reexecuted": false,
    "execution_millis": 20,
    "execution_start": 1685700240404,
    "scrolled": false,
    "source_hash": "2c0811e0"
   },
   "outputs": [
    {
     "name": "stdout",
     "output_type": "stream",
     "text": [
      "facilities\n",
      "BARrestaurant                            56\n",
      "Restaurant                               53\n",
      "BARRestaurant                            50\n",
      "RestaurantBar                            50\n",
      "barrestaurant                            47\n",
      "                                         ..\n",
      "Gymrestaurantinternetswimmingpoolsbar     1\n",
      "poolBarRestaurant                         1\n",
      "Gymintrnetbarswimmingpools                1\n",
      "PoolRestaurantintrnetbar                  1\n",
      "Barrestaurantswimmingpools                1\n",
      "Name: facilities, Length: 1076, dtype: int64\n",
      "\n",
      "rating\n",
      "10.0 ExcellentFrom 1 review     48\n",
      "5.6 GoodFrom 1 review           23\n",
      "8.8 ExcellentFrom 1 review      22\n",
      "7.6 Very GoodFrom 2 reviews     21\n",
      "8.0 ExcellentFrom 6 reviews     21\n",
      "                                ..\n",
      "7.3 Very GoodFrom 9 reviews      2\n",
      "7.6 Very GoodFrom 12 reviews     2\n",
      "6.8 Very GoodFrom 8 reviews      1\n",
      "6.9 Very GoodFrom 3 reviews      1\n",
      "7.5 Very GoodFrom 11 reviews     1\n",
      "Name: rating, Length: 300, dtype: int64\n",
      "\n",
      "location\n",
      "Stokol          414\n",
      "Andeman         375\n",
      "Wanderland      362\n",
      "Hallerson       311\n",
      "Uberlandia      306\n",
      "Willsmian       238\n",
      "Machlessvile    192\n",
      "Ubisville       111\n",
      "Name: location, dtype: int64\n",
      "\n",
      "Price\n",
      "20000    200\n",
      "25000    122\n",
      "15000    116\n",
      "10000    109\n",
      "30000     93\n",
      "        ... \n",
      "27500      2\n",
      "17483      2\n",
      "13225      2\n",
      "7140       2\n",
      "5175       2\n",
      "Name: Price, Length: 129, dtype: int64\n",
      "\n"
     ]
    }
   ],
   "source": [
    "for col in kyozo.columns:\n",
    "    print(col)\n",
    "    print(kyozo[col].value_counts())\n",
    "    print()"
   ]
  },
  {
   "cell_type": "markdown",
   "metadata": {
    "cell_id": "ab5a8b18de31482587aded73137a3327",
    "deepnote_cell_type": "text-cell-h2",
    "formattedRanges": []
   },
   "source": [
    "## Data Preprocessing"
   ]
  },
  {
   "cell_type": "code",
   "execution_count": 66,
   "metadata": {
    "cell_id": "a30e16ee17fc4e32bf5d410a5a46733f",
    "deepnote_cell_type": "code",
    "deepnote_to_be_reexecuted": false,
    "execution_millis": 1,
    "execution_start": 1685701107666,
    "source_hash": "9f894d8b"
   },
   "outputs": [],
   "source": [
    "kyozo1 = kyozo.copy()\n",
    "kyozo2 = test_features.copy()"
   ]
  },
  {
   "cell_type": "code",
   "execution_count": 67,
   "metadata": {
    "cell_id": "281251bccc974eb3bd0f176a3c7d4a1e",
    "deepnote_cell_type": "code",
    "deepnote_to_be_reexecuted": false,
    "execution_millis": 5,
    "execution_start": 1685701108747,
    "source_hash": "d279d66f"
   },
   "outputs": [],
   "source": [
    "kyozo_conc = pd.concat([kyozo1, kyozo2], axis=0, ignore_index=True)"
   ]
  },
  {
   "cell_type": "code",
   "execution_count": 68,
   "metadata": {
    "cell_id": "a5c38b5922894de8a65a3452dd99f8ff",
    "deepnote_cell_type": "code",
    "deepnote_table_loading": false,
    "deepnote_table_state": {
     "filters": [],
     "pageIndex": 0,
     "pageSize": 100,
     "sortBy": []
    },
    "deepnote_to_be_reexecuted": false,
    "execution_millis": 57,
    "execution_start": 1685701109597,
    "source_hash": "f56efd18"
   },
   "outputs": [
    {
     "data": {
      "text/html": [
       "<div>\n",
       "<style scoped>\n",
       "    .dataframe tbody tr th:only-of-type {\n",
       "        vertical-align: middle;\n",
       "    }\n",
       "\n",
       "    .dataframe tbody tr th {\n",
       "        vertical-align: top;\n",
       "    }\n",
       "\n",
       "    .dataframe thead th {\n",
       "        text-align: right;\n",
       "    }\n",
       "</style>\n",
       "<table border=\"1\" class=\"dataframe\">\n",
       "  <thead>\n",
       "    <tr style=\"text-align: right;\">\n",
       "      <th></th>\n",
       "      <th>facilities</th>\n",
       "      <th>rating</th>\n",
       "      <th>location</th>\n",
       "      <th>Price</th>\n",
       "      <th>ID</th>\n",
       "    </tr>\n",
       "  </thead>\n",
       "  <tbody>\n",
       "    <tr>\n",
       "      <th>0</th>\n",
       "      <td>RestaurantBARSwimmingPools</td>\n",
       "      <td>7.8 Very GoodFrom 10 reviews</td>\n",
       "      <td>Stokol</td>\n",
       "      <td>13500.0</td>\n",
       "      <td>NaN</td>\n",
       "    </tr>\n",
       "    <tr>\n",
       "      <th>1</th>\n",
       "      <td>intrnetRestaurantgym</td>\n",
       "      <td>5.6 GoodFrom 4 reviews</td>\n",
       "      <td>Machlessvile</td>\n",
       "      <td>13000.0</td>\n",
       "      <td>NaN</td>\n",
       "    </tr>\n",
       "    <tr>\n",
       "      <th>2</th>\n",
       "      <td>restaurantgympoolBar</td>\n",
       "      <td>7.2 Very GoodFrom 38 reviews</td>\n",
       "      <td>Wanderland</td>\n",
       "      <td>19000.0</td>\n",
       "      <td>NaN</td>\n",
       "    </tr>\n",
       "    <tr>\n",
       "      <th>3</th>\n",
       "      <td>BARRestaurant</td>\n",
       "      <td>7.3 Very GoodFrom 6 reviews</td>\n",
       "      <td>Uberlandia</td>\n",
       "      <td>6000.0</td>\n",
       "      <td>NaN</td>\n",
       "    </tr>\n",
       "    <tr>\n",
       "      <th>4</th>\n",
       "      <td>InternetRestaurant</td>\n",
       "      <td>7.2 Very GoodFrom 30 reviews</td>\n",
       "      <td>Stokol</td>\n",
       "      <td>20000.0</td>\n",
       "      <td>NaN</td>\n",
       "    </tr>\n",
       "  </tbody>\n",
       "</table>\n",
       "</div>"
      ],
      "text/plain": [
       "                   facilities                        rating      location  \\\n",
       "0  RestaurantBARSwimmingPools  7.8 Very GoodFrom 10 reviews        Stokol   \n",
       "1        intrnetRestaurantgym        5.6 GoodFrom 4 reviews  Machlessvile   \n",
       "2        restaurantgympoolBar  7.2 Very GoodFrom 38 reviews    Wanderland   \n",
       "3               BARRestaurant   7.3 Very GoodFrom 6 reviews    Uberlandia   \n",
       "4          InternetRestaurant  7.2 Very GoodFrom 30 reviews        Stokol   \n",
       "\n",
       "     Price  ID  \n",
       "0  13500.0 NaN  \n",
       "1  13000.0 NaN  \n",
       "2  19000.0 NaN  \n",
       "3   6000.0 NaN  \n",
       "4  20000.0 NaN  "
      ]
     },
     "execution_count": 68,
     "metadata": {},
     "output_type": "execute_result"
    }
   ],
   "source": [
    "kyozo_conc.head()"
   ]
  },
  {
   "cell_type": "markdown",
   "metadata": {
    "cell_id": "073c64cb1ea440a0b6a5e57daea4b3c2",
    "deepnote_cell_type": "text-cell-h3",
    "formattedRanges": []
   },
   "source": [
    "### Facilities Column"
   ]
  },
  {
   "cell_type": "code",
   "execution_count": 69,
   "metadata": {
    "cell_id": "dfc749f36a6c48d2bd571e577878c017",
    "deepnote_cell_type": "code",
    "deepnote_to_be_reexecuted": false,
    "execution_millis": 30,
    "execution_start": 1685701112003,
    "source_hash": "97464f5e"
   },
   "outputs": [],
   "source": [
    "# Change to lowercase\n",
    "kyozo_conc['facilities'] = kyozo_conc['facilities'].str.lower()"
   ]
  },
  {
   "cell_type": "code",
   "execution_count": 70,
   "metadata": {
    "cell_id": "6f0bf319c7414520b2a3ed0078d82922",
    "deepnote_cell_type": "code",
    "deepnote_to_be_reexecuted": false,
    "execution_millis": 31,
    "execution_start": 1685701113024,
    "source_hash": "a9afe04d"
   },
   "outputs": [],
   "source": [
    "# Check restaurant\n",
    "kyozo_conc['fac_restaurant'] = kyozo_conc['facilities'].str.contains('restaurant') \n",
    "kyozo_conc['facilities'] = kyozo_conc['facilities'].str.replace('restaurant','')"
   ]
  },
  {
   "cell_type": "code",
   "execution_count": 71,
   "metadata": {
    "cell_id": "c6f2d959dbf14120a7f7c48f46b10a91",
    "deepnote_cell_type": "code",
    "deepnote_to_be_reexecuted": false,
    "execution_millis": 41,
    "execution_start": 1685701113922,
    "source_hash": "104492a1"
   },
   "outputs": [],
   "source": [
    "# Check gym\n",
    "kyozo_conc['fac_gym'] = kyozo_conc['facilities'].str.contains('gym') \n",
    "kyozo_conc['facilities'] = kyozo_conc['facilities'].str.replace('gym','')"
   ]
  },
  {
   "cell_type": "code",
   "execution_count": 72,
   "metadata": {
    "cell_id": "d721d60a51fc4b8bbcec7863684ce7a4",
    "deepnote_cell_type": "code",
    "deepnote_to_be_reexecuted": false,
    "execution_millis": 28,
    "execution_start": 1685701114840,
    "source_hash": "dfedf504"
   },
   "outputs": [],
   "source": [
    "# Check bar\n",
    "kyozo_conc['fac_bar'] = kyozo_conc['facilities'].str.contains('bar') \n",
    "kyozo_conc['facilities'] = kyozo_conc['facilities'].str.replace('bar','')"
   ]
  },
  {
   "cell_type": "code",
   "execution_count": 73,
   "metadata": {
    "cell_id": "3357dc5a67154aedb041dc7e6ac7d693",
    "deepnote_cell_type": "code",
    "deepnote_to_be_reexecuted": false,
    "execution_millis": 75,
    "execution_start": 1685701115933,
    "source_hash": "d4bc4d7a"
   },
   "outputs": [],
   "source": [
    "# Check swimming pool\n",
    "kyozo_conc['fac_swim'] = kyozo_conc['facilities'].str.contains('swim') | kyozo_conc['facilities'].str.contains('pool')\n",
    "kyozo_conc['facilities'] = kyozo_conc['facilities'].str.replace('swimming','')\n",
    "kyozo_conc['facilities'] = kyozo_conc['facilities'].str.replace('pool','')\n",
    "kyozo_conc['facilities'] = kyozo_conc['facilities'].str.replace('pools','')\n"
   ]
  },
  {
   "cell_type": "code",
   "execution_count": 74,
   "metadata": {
    "cell_id": "d7f49c8369694efabdfdc0d469c89f4a",
    "deepnote_cell_type": "code",
    "deepnote_to_be_reexecuted": false,
    "execution_millis": 61,
    "execution_start": 1685701117601,
    "source_hash": "f11c9714"
   },
   "outputs": [],
   "source": [
    "# Check internet\n",
    "kyozo_conc['fac_internet'] = kyozo_conc['facilities'].str.contains('internet')  | kyozo_conc['facilities'].str.contains('intrnet')\n",
    "kyozo_conc['facilities'] = kyozo_conc['facilities'].str.replace('internet','')\n",
    "kyozo_conc['facilities'] = kyozo_conc['facilities'].str.replace('intrnet','')\n",
    "kyozo_conc['facilities'] = kyozo_conc['facilities'].str.replace('s','')"
   ]
  },
  {
   "cell_type": "code",
   "execution_count": 75,
   "metadata": {
    "cell_id": "ffe9b7bbb7304e809e93aaa6e333a571",
    "deepnote_cell_type": "code",
    "deepnote_to_be_reexecuted": false,
    "execution_millis": 37,
    "execution_start": 1685701118761,
    "source_hash": "3ba595f3"
   },
   "outputs": [],
   "source": [
    "# Change boolean to number and drop facilitites column\n",
    "kyozo_conc.replace({False: 0, True: 1}, inplace=True)\n",
    "kyozo_conc.drop(['facilities'],axis=1, inplace=True)"
   ]
  },
  {
   "cell_type": "code",
   "execution_count": 76,
   "metadata": {
    "cell_id": "8fc74cd638e34e3bb9b1c1d71aace3ea",
    "deepnote_cell_type": "code",
    "deepnote_to_be_reexecuted": false,
    "execution_millis": 70,
    "execution_start": 1685701125041,
    "source_hash": "f56efd18"
   },
   "outputs": [
    {
     "data": {
      "text/html": [
       "<div>\n",
       "<style scoped>\n",
       "    .dataframe tbody tr th:only-of-type {\n",
       "        vertical-align: middle;\n",
       "    }\n",
       "\n",
       "    .dataframe tbody tr th {\n",
       "        vertical-align: top;\n",
       "    }\n",
       "\n",
       "    .dataframe thead th {\n",
       "        text-align: right;\n",
       "    }\n",
       "</style>\n",
       "<table border=\"1\" class=\"dataframe\">\n",
       "  <thead>\n",
       "    <tr style=\"text-align: right;\">\n",
       "      <th></th>\n",
       "      <th>rating</th>\n",
       "      <th>location</th>\n",
       "      <th>Price</th>\n",
       "      <th>ID</th>\n",
       "      <th>fac_restaurant</th>\n",
       "      <th>fac_gym</th>\n",
       "      <th>fac_bar</th>\n",
       "      <th>fac_swim</th>\n",
       "      <th>fac_internet</th>\n",
       "    </tr>\n",
       "  </thead>\n",
       "  <tbody>\n",
       "    <tr>\n",
       "      <th>0</th>\n",
       "      <td>7.8 Very GoodFrom 10 reviews</td>\n",
       "      <td>Stokol</td>\n",
       "      <td>13500.0</td>\n",
       "      <td>NaN</td>\n",
       "      <td>1</td>\n",
       "      <td>0</td>\n",
       "      <td>1</td>\n",
       "      <td>1</td>\n",
       "      <td>0</td>\n",
       "    </tr>\n",
       "    <tr>\n",
       "      <th>1</th>\n",
       "      <td>5.6 GoodFrom 4 reviews</td>\n",
       "      <td>Machlessvile</td>\n",
       "      <td>13000.0</td>\n",
       "      <td>NaN</td>\n",
       "      <td>1</td>\n",
       "      <td>1</td>\n",
       "      <td>0</td>\n",
       "      <td>0</td>\n",
       "      <td>1</td>\n",
       "    </tr>\n",
       "    <tr>\n",
       "      <th>2</th>\n",
       "      <td>7.2 Very GoodFrom 38 reviews</td>\n",
       "      <td>Wanderland</td>\n",
       "      <td>19000.0</td>\n",
       "      <td>NaN</td>\n",
       "      <td>1</td>\n",
       "      <td>1</td>\n",
       "      <td>1</td>\n",
       "      <td>1</td>\n",
       "      <td>0</td>\n",
       "    </tr>\n",
       "    <tr>\n",
       "      <th>3</th>\n",
       "      <td>7.3 Very GoodFrom 6 reviews</td>\n",
       "      <td>Uberlandia</td>\n",
       "      <td>6000.0</td>\n",
       "      <td>NaN</td>\n",
       "      <td>1</td>\n",
       "      <td>0</td>\n",
       "      <td>1</td>\n",
       "      <td>0</td>\n",
       "      <td>0</td>\n",
       "    </tr>\n",
       "    <tr>\n",
       "      <th>4</th>\n",
       "      <td>7.2 Very GoodFrom 30 reviews</td>\n",
       "      <td>Stokol</td>\n",
       "      <td>20000.0</td>\n",
       "      <td>NaN</td>\n",
       "      <td>1</td>\n",
       "      <td>0</td>\n",
       "      <td>0</td>\n",
       "      <td>0</td>\n",
       "      <td>1</td>\n",
       "    </tr>\n",
       "  </tbody>\n",
       "</table>\n",
       "</div>"
      ],
      "text/plain": [
       "                         rating      location    Price  ID  fac_restaurant  \\\n",
       "0  7.8 Very GoodFrom 10 reviews        Stokol  13500.0 NaN               1   \n",
       "1        5.6 GoodFrom 4 reviews  Machlessvile  13000.0 NaN               1   \n",
       "2  7.2 Very GoodFrom 38 reviews    Wanderland  19000.0 NaN               1   \n",
       "3   7.3 Very GoodFrom 6 reviews    Uberlandia   6000.0 NaN               1   \n",
       "4  7.2 Very GoodFrom 30 reviews        Stokol  20000.0 NaN               1   \n",
       "\n",
       "   fac_gym  fac_bar  fac_swim  fac_internet  \n",
       "0        0        1         1             0  \n",
       "1        1        0         0             1  \n",
       "2        1        1         1             0  \n",
       "3        0        1         0             0  \n",
       "4        0        0         0             1  "
      ]
     },
     "execution_count": 76,
     "metadata": {},
     "output_type": "execute_result"
    }
   ],
   "source": [
    "kyozo_conc.head()"
   ]
  },
  {
   "cell_type": "markdown",
   "metadata": {
    "cell_id": "3e2c3f0bb8034f628a62012d92c3cf3b",
    "deepnote_cell_type": "text-cell-h3",
    "formattedRanges": []
   },
   "source": [
    "### Rating Column"
   ]
  },
  {
   "cell_type": "code",
   "execution_count": 77,
   "metadata": {
    "cell_id": "4056b1b389c34a1cb092515c425becc4",
    "deepnote_cell_type": "code",
    "deepnote_to_be_reexecuted": false,
    "execution_millis": 2,
    "execution_start": 1685703025394,
    "source_hash": "d55034b6"
   },
   "outputs": [],
   "source": [
    "# Change to lowercase\n",
    "kyozo_rate = kyozo_conc.copy()\n",
    "kyozo_rate['rating'] = kyozo_rate['rating'].str.lower()"
   ]
  },
  {
   "cell_type": "code",
   "execution_count": 78,
   "metadata": {
    "cell_id": "50b56c46c7fa4c4aab86bfd80358a1c5",
    "deepnote_cell_type": "code",
    "deepnote_to_be_reexecuted": false,
    "execution_millis": 9,
    "execution_start": 1685703026557,
    "source_hash": "d9c6b31b"
   },
   "outputs": [],
   "source": [
    "# Check very_good rate\n",
    "kyozo_rate['very_good'] = kyozo_rate['rating'].str.findall(r'\\b\\w*very good').str.join(' ')"
   ]
  },
  {
   "cell_type": "code",
   "execution_count": 79,
   "metadata": {
    "cell_id": "2ef00a5cbab640de8f3f0e6c3f5dfe98",
    "deepnote_cell_type": "code",
    "deepnote_to_be_reexecuted": false,
    "execution_millis": 24,
    "execution_start": 1685703027592,
    "source_hash": "e94c18b7"
   },
   "outputs": [],
   "source": [
    "# Check fair rate\n",
    "kyozo_rate['fair'] = kyozo_rate['rating'].str.findall(r'\\b\\w*fair').str.join(' ')"
   ]
  },
  {
   "cell_type": "code",
   "execution_count": 80,
   "metadata": {
    "cell_id": "31fab29dda964a46bbd06866e78b11de",
    "deepnote_cell_type": "code",
    "deepnote_to_be_reexecuted": false,
    "execution_millis": 34,
    "execution_start": 1685703028711,
    "source_hash": "24cefc2f"
   },
   "outputs": [],
   "source": [
    "# Check excellent rate\n",
    "kyozo_rate['excellent'] = kyozo_rate['rating'].str.findall(r'\\b\\w*excellent').str.join(' ')"
   ]
  },
  {
   "cell_type": "code",
   "execution_count": 81,
   "metadata": {
    "cell_id": "09c0d61aa21a413cb088cefbfa41d119",
    "deepnote_cell_type": "code",
    "deepnote_to_be_reexecuted": false,
    "execution_millis": 17,
    "execution_start": 1685703030302,
    "scrolled": false,
    "source_hash": "48945714"
   },
   "outputs": [],
   "source": [
    "# Check the rating\n",
    "kyozo_rate['rate'] = kyozo_rate['rating'].str.extract(r'(\\d+\\.\\d+)', expand=False)"
   ]
  },
  {
   "cell_type": "code",
   "execution_count": 82,
   "metadata": {
    "cell_id": "bb5bdecb627149e696f9cfebed5ebfeb",
    "deepnote_cell_type": "code",
    "deepnote_to_be_reexecuted": false,
    "execution_millis": 44,
    "execution_start": 1685703031114,
    "source_hash": "41f152dc"
   },
   "outputs": [],
   "source": [
    "# Check numer of reviews\n",
    "kyozo_rate['num_of_reviews'] = kyozo_rate['rating'].str.extract(r'(\\d+)\\s*reviews?', expand=False)"
   ]
  },
  {
   "cell_type": "code",
   "execution_count": 83,
   "metadata": {
    "cell_id": "70f8e69943344bfda0e904b51c94e6f9",
    "deepnote_cell_type": "code",
    "deepnote_to_be_reexecuted": false,
    "execution_millis": 1,
    "execution_start": 1685703034806,
    "source_hash": "82703f9e"
   },
   "outputs": [],
   "source": [
    "# Concatenate fair and excellent rate with very_good rate\n",
    "kyozo_rate['description'] = kyozo_rate['very_good'].str.cat([kyozo_rate['fair'], kyozo_rate['excellent']])"
   ]
  },
  {
   "cell_type": "code",
   "execution_count": 84,
   "metadata": {
    "cell_id": "6fec8f0153f44c5e89a9c8b9dc3d0b0c",
    "deepnote_cell_type": "code",
    "deepnote_to_be_reexecuted": false,
    "execution_millis": 2,
    "execution_start": 1685703035153,
    "source_hash": "53b5e8fa"
   },
   "outputs": [],
   "source": [
    "# Fill empty rows with good rate\n",
    "kyozo_rate['description'].replace('','good',inplace=True)"
   ]
  },
  {
   "cell_type": "code",
   "execution_count": 85,
   "metadata": {
    "cell_id": "e15dab46517d4f75b074a2519555eb01",
    "deepnote_cell_type": "code",
    "deepnote_to_be_reexecuted": false,
    "execution_millis": 16,
    "execution_start": 1685703039197,
    "source_hash": "7989be44"
   },
   "outputs": [],
   "source": [
    "# Drop unused column\n",
    "kyozo_rate.drop(['very_good','fair','excellent','rating'],axis=1,inplace=True)"
   ]
  },
  {
   "cell_type": "code",
   "execution_count": 86,
   "metadata": {
    "cell_id": "e0dd5f8e8b6646bfbbd5d16470ca5186",
    "deepnote_cell_type": "code",
    "deepnote_to_be_reexecuted": false,
    "execution_millis": 4,
    "execution_start": 1685703044600,
    "source_hash": "e2a9e790"
   },
   "outputs": [
    {
     "data": {
      "text/plain": [
       "23"
      ]
     },
     "execution_count": 86,
     "metadata": {},
     "output_type": "execute_result"
    }
   ],
   "source": [
    "# Check null\n",
    "kyozo_rate_with_null = kyozo_rate.copy()\n",
    "kyozo_rate_with_null['rate'].isna().sum()"
   ]
  },
  {
   "cell_type": "code",
   "execution_count": 88,
   "metadata": {
    "cell_id": "b8e18bd8328b4b95831c517fd74e211e",
    "deepnote_cell_type": "code",
    "deepnote_to_be_reexecuted": false,
    "execution_millis": 42,
    "execution_start": 1685703060858,
    "source_hash": "b0f93791"
   },
   "outputs": [
    {
     "name": "stdout",
     "output_type": "stream",
     "text": [
      "<class 'pandas.core.frame.DataFrame'>\n",
      "Int64Index: 3053 entries, 0 to 3075\n",
      "Data columns (total 11 columns):\n",
      " #   Column          Non-Null Count  Dtype  \n",
      "---  ------          --------------  -----  \n",
      " 0   location        3053 non-null   object \n",
      " 1   Price           2286 non-null   float64\n",
      " 2   ID              767 non-null    float64\n",
      " 3   fac_restaurant  3053 non-null   int64  \n",
      " 4   fac_gym         3053 non-null   int64  \n",
      " 5   fac_bar         3053 non-null   int64  \n",
      " 6   fac_swim        3053 non-null   int64  \n",
      " 7   fac_internet    3053 non-null   int64  \n",
      " 8   rate            3053 non-null   object \n",
      " 9   num_of_reviews  3053 non-null   object \n",
      " 10  description     3053 non-null   object \n",
      "dtypes: float64(2), int64(5), object(4)\n",
      "memory usage: 286.2+ KB\n"
     ]
    }
   ],
   "source": [
    "# Get the index of null values and drop it\n",
    "rate_null = kyozo_rate_with_null.loc[kyozo_rate_with_null['rate'].isna()].index.tolist()\n",
    "kyozo_rate_with_null.drop(rate_null, axis=0,inplace=True)\n",
    "\n",
    "kyozo_rate_no_null = kyozo_rate_with_null.copy()\n",
    "kyozo_rate_no_null.info()"
   ]
  },
  {
   "cell_type": "code",
   "execution_count": 89,
   "metadata": {
    "cell_id": "7f2516663c884cf3b84a23b38d991db1",
    "deepnote_cell_type": "code",
    "deepnote_to_be_reexecuted": false,
    "execution_millis": 18,
    "execution_start": 1685703647885,
    "source_hash": "5c6835b0"
   },
   "outputs": [],
   "source": [
    "# Change to appropriate data type\n",
    "kyozo_rate_no_null['rate'] = pd.to_numeric(kyozo_rate_no_null['rate'])\n",
    "kyozo_rate_no_null['num_of_reviews'] = pd.to_numeric(kyozo_rate_no_null['num_of_reviews'])"
   ]
  },
  {
   "cell_type": "code",
   "execution_count": 90,
   "metadata": {
    "cell_id": "960a3d03b35244d29d464d1827f85004",
    "deepnote_cell_type": "code",
    "deepnote_to_be_reexecuted": false,
    "execution_millis": 142,
    "execution_start": 1685703650189,
    "source_hash": "b810e95a"
   },
   "outputs": [
    {
     "data": {
      "text/html": [
       "<div>\n",
       "<style scoped>\n",
       "    .dataframe tbody tr th:only-of-type {\n",
       "        vertical-align: middle;\n",
       "    }\n",
       "\n",
       "    .dataframe tbody tr th {\n",
       "        vertical-align: top;\n",
       "    }\n",
       "\n",
       "    .dataframe thead th {\n",
       "        text-align: right;\n",
       "    }\n",
       "</style>\n",
       "<table border=\"1\" class=\"dataframe\">\n",
       "  <thead>\n",
       "    <tr style=\"text-align: right;\">\n",
       "      <th></th>\n",
       "      <th>location</th>\n",
       "      <th>Price</th>\n",
       "      <th>ID</th>\n",
       "      <th>fac_restaurant</th>\n",
       "      <th>fac_gym</th>\n",
       "      <th>fac_bar</th>\n",
       "      <th>fac_swim</th>\n",
       "      <th>fac_internet</th>\n",
       "      <th>rate</th>\n",
       "      <th>num_of_reviews</th>\n",
       "      <th>description</th>\n",
       "    </tr>\n",
       "  </thead>\n",
       "  <tbody>\n",
       "    <tr>\n",
       "      <th>0</th>\n",
       "      <td>Stokol</td>\n",
       "      <td>13500.0</td>\n",
       "      <td>NaN</td>\n",
       "      <td>1</td>\n",
       "      <td>0</td>\n",
       "      <td>1</td>\n",
       "      <td>1</td>\n",
       "      <td>0</td>\n",
       "      <td>7.8</td>\n",
       "      <td>10</td>\n",
       "      <td>very good</td>\n",
       "    </tr>\n",
       "    <tr>\n",
       "      <th>1</th>\n",
       "      <td>Machlessvile</td>\n",
       "      <td>13000.0</td>\n",
       "      <td>NaN</td>\n",
       "      <td>1</td>\n",
       "      <td>1</td>\n",
       "      <td>0</td>\n",
       "      <td>0</td>\n",
       "      <td>1</td>\n",
       "      <td>5.6</td>\n",
       "      <td>4</td>\n",
       "      <td>good</td>\n",
       "    </tr>\n",
       "    <tr>\n",
       "      <th>2</th>\n",
       "      <td>Wanderland</td>\n",
       "      <td>19000.0</td>\n",
       "      <td>NaN</td>\n",
       "      <td>1</td>\n",
       "      <td>1</td>\n",
       "      <td>1</td>\n",
       "      <td>1</td>\n",
       "      <td>0</td>\n",
       "      <td>7.2</td>\n",
       "      <td>38</td>\n",
       "      <td>very good</td>\n",
       "    </tr>\n",
       "    <tr>\n",
       "      <th>3</th>\n",
       "      <td>Uberlandia</td>\n",
       "      <td>6000.0</td>\n",
       "      <td>NaN</td>\n",
       "      <td>1</td>\n",
       "      <td>0</td>\n",
       "      <td>1</td>\n",
       "      <td>0</td>\n",
       "      <td>0</td>\n",
       "      <td>7.3</td>\n",
       "      <td>6</td>\n",
       "      <td>very good</td>\n",
       "    </tr>\n",
       "    <tr>\n",
       "      <th>4</th>\n",
       "      <td>Stokol</td>\n",
       "      <td>20000.0</td>\n",
       "      <td>NaN</td>\n",
       "      <td>1</td>\n",
       "      <td>0</td>\n",
       "      <td>0</td>\n",
       "      <td>0</td>\n",
       "      <td>1</td>\n",
       "      <td>7.2</td>\n",
       "      <td>30</td>\n",
       "      <td>very good</td>\n",
       "    </tr>\n",
       "  </tbody>\n",
       "</table>\n",
       "</div>"
      ],
      "text/plain": [
       "       location    Price  ID  fac_restaurant  fac_gym  fac_bar  fac_swim  \\\n",
       "0        Stokol  13500.0 NaN               1        0        1         1   \n",
       "1  Machlessvile  13000.0 NaN               1        1        0         0   \n",
       "2    Wanderland  19000.0 NaN               1        1        1         1   \n",
       "3    Uberlandia   6000.0 NaN               1        0        1         0   \n",
       "4        Stokol  20000.0 NaN               1        0        0         0   \n",
       "\n",
       "   fac_internet  rate  num_of_reviews description  \n",
       "0             0   7.8              10   very good  \n",
       "1             1   5.6               4        good  \n",
       "2             0   7.2              38   very good  \n",
       "3             0   7.3               6   very good  \n",
       "4             1   7.2              30   very good  "
      ]
     },
     "execution_count": 90,
     "metadata": {},
     "output_type": "execute_result"
    }
   ],
   "source": [
    "kyozo_rate_no_null.head()"
   ]
  },
  {
   "cell_type": "markdown",
   "metadata": {
    "cell_id": "15926e3431ad482e96a3241f5d7f39a6",
    "deepnote_cell_type": "text-cell-h3",
    "formattedRanges": []
   },
   "source": [
    "### Label and One Hot Encoding"
   ]
  },
  {
   "cell_type": "code",
   "execution_count": 91,
   "metadata": {
    "cell_id": "df9e478b1ed64bab909d2d2248f243e3",
    "deepnote_cell_type": "code",
    "deepnote_to_be_reexecuted": false,
    "execution_millis": 31,
    "execution_start": 1685703657648,
    "source_hash": "3a1ca29b"
   },
   "outputs": [],
   "source": [
    "# Replace description to ordinal number\n",
    "kyozo_rate_no_null['description'].replace({'excellent':4,'very good': 3, 'good': 2, 'fair':1}, inplace=True)"
   ]
  },
  {
   "cell_type": "code",
   "execution_count": 92,
   "metadata": {
    "cell_id": "5c1c7e4627734969aaa08bb6572214be",
    "deepnote_cell_type": "code",
    "deepnote_to_be_reexecuted": false,
    "execution_millis": 60,
    "execution_start": 1685703658725,
    "source_hash": "58d4bf3"
   },
   "outputs": [],
   "source": [
    "# OHE\n",
    "kyozo_ohe = pd.get_dummies(kyozo_rate_no_null, columns=['location'], drop_first=True)"
   ]
  },
  {
   "cell_type": "code",
   "execution_count": 93,
   "metadata": {
    "cell_id": "a29a200e0d7b4ccdad43073305eb8c7e",
    "deepnote_cell_type": "code",
    "deepnote_to_be_reexecuted": false,
    "execution_millis": 175,
    "execution_start": 1685703659955,
    "source_hash": "e527f0f"
   },
   "outputs": [
    {
     "data": {
      "text/html": [
       "<div>\n",
       "<style scoped>\n",
       "    .dataframe tbody tr th:only-of-type {\n",
       "        vertical-align: middle;\n",
       "    }\n",
       "\n",
       "    .dataframe tbody tr th {\n",
       "        vertical-align: top;\n",
       "    }\n",
       "\n",
       "    .dataframe thead th {\n",
       "        text-align: right;\n",
       "    }\n",
       "</style>\n",
       "<table border=\"1\" class=\"dataframe\">\n",
       "  <thead>\n",
       "    <tr style=\"text-align: right;\">\n",
       "      <th></th>\n",
       "      <th>Price</th>\n",
       "      <th>ID</th>\n",
       "      <th>fac_restaurant</th>\n",
       "      <th>fac_gym</th>\n",
       "      <th>fac_bar</th>\n",
       "      <th>fac_swim</th>\n",
       "      <th>fac_internet</th>\n",
       "      <th>rate</th>\n",
       "      <th>num_of_reviews</th>\n",
       "      <th>description</th>\n",
       "      <th>location_Hallerson</th>\n",
       "      <th>location_Machlessvile</th>\n",
       "      <th>location_Stokol</th>\n",
       "      <th>location_Uberlandia</th>\n",
       "      <th>location_Ubisville</th>\n",
       "      <th>location_Wanderland</th>\n",
       "      <th>location_Willsmian</th>\n",
       "    </tr>\n",
       "  </thead>\n",
       "  <tbody>\n",
       "    <tr>\n",
       "      <th>0</th>\n",
       "      <td>13500.0</td>\n",
       "      <td>NaN</td>\n",
       "      <td>1</td>\n",
       "      <td>0</td>\n",
       "      <td>1</td>\n",
       "      <td>1</td>\n",
       "      <td>0</td>\n",
       "      <td>7.8</td>\n",
       "      <td>10</td>\n",
       "      <td>3</td>\n",
       "      <td>0</td>\n",
       "      <td>0</td>\n",
       "      <td>1</td>\n",
       "      <td>0</td>\n",
       "      <td>0</td>\n",
       "      <td>0</td>\n",
       "      <td>0</td>\n",
       "    </tr>\n",
       "    <tr>\n",
       "      <th>1</th>\n",
       "      <td>13000.0</td>\n",
       "      <td>NaN</td>\n",
       "      <td>1</td>\n",
       "      <td>1</td>\n",
       "      <td>0</td>\n",
       "      <td>0</td>\n",
       "      <td>1</td>\n",
       "      <td>5.6</td>\n",
       "      <td>4</td>\n",
       "      <td>2</td>\n",
       "      <td>0</td>\n",
       "      <td>1</td>\n",
       "      <td>0</td>\n",
       "      <td>0</td>\n",
       "      <td>0</td>\n",
       "      <td>0</td>\n",
       "      <td>0</td>\n",
       "    </tr>\n",
       "    <tr>\n",
       "      <th>2</th>\n",
       "      <td>19000.0</td>\n",
       "      <td>NaN</td>\n",
       "      <td>1</td>\n",
       "      <td>1</td>\n",
       "      <td>1</td>\n",
       "      <td>1</td>\n",
       "      <td>0</td>\n",
       "      <td>7.2</td>\n",
       "      <td>38</td>\n",
       "      <td>3</td>\n",
       "      <td>0</td>\n",
       "      <td>0</td>\n",
       "      <td>0</td>\n",
       "      <td>0</td>\n",
       "      <td>0</td>\n",
       "      <td>1</td>\n",
       "      <td>0</td>\n",
       "    </tr>\n",
       "    <tr>\n",
       "      <th>3</th>\n",
       "      <td>6000.0</td>\n",
       "      <td>NaN</td>\n",
       "      <td>1</td>\n",
       "      <td>0</td>\n",
       "      <td>1</td>\n",
       "      <td>0</td>\n",
       "      <td>0</td>\n",
       "      <td>7.3</td>\n",
       "      <td>6</td>\n",
       "      <td>3</td>\n",
       "      <td>0</td>\n",
       "      <td>0</td>\n",
       "      <td>0</td>\n",
       "      <td>1</td>\n",
       "      <td>0</td>\n",
       "      <td>0</td>\n",
       "      <td>0</td>\n",
       "    </tr>\n",
       "    <tr>\n",
       "      <th>4</th>\n",
       "      <td>20000.0</td>\n",
       "      <td>NaN</td>\n",
       "      <td>1</td>\n",
       "      <td>0</td>\n",
       "      <td>0</td>\n",
       "      <td>0</td>\n",
       "      <td>1</td>\n",
       "      <td>7.2</td>\n",
       "      <td>30</td>\n",
       "      <td>3</td>\n",
       "      <td>0</td>\n",
       "      <td>0</td>\n",
       "      <td>1</td>\n",
       "      <td>0</td>\n",
       "      <td>0</td>\n",
       "      <td>0</td>\n",
       "      <td>0</td>\n",
       "    </tr>\n",
       "  </tbody>\n",
       "</table>\n",
       "</div>"
      ],
      "text/plain": [
       "     Price  ID  fac_restaurant  fac_gym  fac_bar  fac_swim  fac_internet  \\\n",
       "0  13500.0 NaN               1        0        1         1             0   \n",
       "1  13000.0 NaN               1        1        0         0             1   \n",
       "2  19000.0 NaN               1        1        1         1             0   \n",
       "3   6000.0 NaN               1        0        1         0             0   \n",
       "4  20000.0 NaN               1        0        0         0             1   \n",
       "\n",
       "   rate  num_of_reviews  description  location_Hallerson  \\\n",
       "0   7.8              10            3                   0   \n",
       "1   5.6               4            2                   0   \n",
       "2   7.2              38            3                   0   \n",
       "3   7.3               6            3                   0   \n",
       "4   7.2              30            3                   0   \n",
       "\n",
       "   location_Machlessvile  location_Stokol  location_Uberlandia  \\\n",
       "0                      0                1                    0   \n",
       "1                      1                0                    0   \n",
       "2                      0                0                    0   \n",
       "3                      0                0                    1   \n",
       "4                      0                1                    0   \n",
       "\n",
       "   location_Ubisville  location_Wanderland  location_Willsmian  \n",
       "0                   0                    0                   0  \n",
       "1                   0                    0                   0  \n",
       "2                   0                    1                   0  \n",
       "3                   0                    0                   0  \n",
       "4                   0                    0                   0  "
      ]
     },
     "execution_count": 93,
     "metadata": {},
     "output_type": "execute_result"
    }
   ],
   "source": [
    "kyozo_ohe.head()"
   ]
  },
  {
   "cell_type": "markdown",
   "metadata": {
    "cell_id": "97d4bc9a218f49dc8d988c98e713478c",
    "deepnote_cell_type": "text-cell-h2",
    "formattedRanges": []
   },
   "source": [
    "## EDA"
   ]
  },
  {
   "cell_type": "markdown",
   "metadata": {
    "cell_id": "86d1c5966e364bbea966fb5f099f2791",
    "deepnote_cell_type": "text-cell-h3",
    "formattedRanges": []
   },
   "source": [
    "### Distribution"
   ]
  },
  {
   "cell_type": "code",
   "execution_count": 95,
   "metadata": {
    "cell_id": "41160fcb7f1b4930b9f555b0661815fd",
    "deepnote_cell_type": "code",
    "deepnote_to_be_reexecuted": false,
    "execution_millis": 365,
    "execution_start": 1685700240946,
    "source_hash": "7d3b8ef1"
   },
   "outputs": [
    {
     "data": {
      "text/plain": [
       "Text(0.5, 1.0, 'Before Normalize')"
      ]
     },
     "execution_count": 95,
     "metadata": {},
     "output_type": "execute_result"
    },
    {
     "data": {
      "image/png": "[encoded data removed]",
      "text/plain": [
       "<Figure size 800x400 with 1 Axes>"
      ]
     },
     "metadata": {},
     "output_type": "display_data"
    }
   ],
   "source": [
    "# Price dist\n",
    "plt.figure(figsize=(8,4))\n",
    "sns.distplot(kyozo_ohe['Price'], kde=True)\n",
    "plt.title('Before Normalize')"
   ]
  },
  {
   "cell_type": "code",
   "execution_count": 96,
   "metadata": {
    "cell_id": "f3f00e0fcd7c409aabc3c51ed8cf06b0",
    "deepnote_cell_type": "code",
    "deepnote_to_be_reexecuted": false,
    "execution_millis": 188,
    "execution_start": 1685700241840,
    "source_hash": "51db9a85"
   },
   "outputs": [
    {
     "data": {
      "text/plain": [
       "Text(0.5, 1.0, 'After Normalize')"
      ]
     },
     "execution_count": 96,
     "metadata": {},
     "output_type": "execute_result"
    },
    {
     "data": {
      "image/png": "[encoded data removed]",
      "text/plain": [
       "<Figure size 800x400 with 1 Axes>"
      ]
     },
     "metadata": {},
     "output_type": "display_data"
    }
   ],
   "source": [
    "# Price dist\n",
    "plt.figure(figsize=(8,4))\n",
    "sns.distplot(np.log(kyozo_ohe['Price']), kde=True)\n",
    "plt.title('After Normalize')"
   ]
  },
  {
   "cell_type": "markdown",
   "metadata": {
    "cell_id": "2287759423d241c7b7a73759db7f956e",
    "deepnote_cell_type": "text-cell-h3",
    "formattedRanges": []
   },
   "source": [
    "### Correlation before Feature Engineering"
   ]
  },
  {
   "cell_type": "code",
   "execution_count": 97,
   "metadata": {
    "cell_id": "7f9a67b03eb44e58bf4c9f9f2afee344",
    "deepnote_cell_type": "code",
    "deepnote_to_be_reexecuted": false,
    "execution_millis": 20,
    "execution_start": 1685700242447,
    "source_hash": "dcec19b4"
   },
   "outputs": [],
   "source": [
    "# Just use training data\n",
    "kyozo_training_tmp = kyozo_ohe.iloc[:-767,:].copy().drop('ID',axis=1)"
   ]
  },
  {
   "cell_type": "code",
   "execution_count": 98,
   "metadata": {
    "cell_id": "c786b54eea3849e4b64d475e5bb4e9ca",
    "deepnote_cell_type": "code",
    "deepnote_to_be_reexecuted": false,
    "execution_millis": 559,
    "execution_start": 1685700242480,
    "source_hash": "94444c88"
   },
   "outputs": [
    {
     "data": {
      "image/png": "[encoded data removed]",
      "text/plain": [
       "<Figure size 800x400 with 2 Axes>"
      ]
     },
     "metadata": {},
     "output_type": "display_data"
    }
   ],
   "source": [
    "# Description with price (spearman)\n",
    "plt.figure(figsize=(8, 4))\n",
    "sns.heatmap(kyozo_training_tmp[['description','Price']].corr(method='spearman'), annot=True, linewidths=0.5)\n",
    "plt.show()"
   ]
  },
  {
   "cell_type": "code",
   "execution_count": 99,
   "metadata": {
    "cell_id": "c9ce05d35ce14df79bed202681ceb8ff",
    "deepnote_cell_type": "code",
    "deepnote_to_be_reexecuted": false,
    "execution_millis": 387,
    "execution_start": 1685700243040,
    "source_hash": "55a156e3"
   },
   "outputs": [
    {
     "data": {
      "image/png": "[encoded data removed]",
      "text/plain": [
       "<Figure size 1000x400 with 2 Axes>"
      ]
     },
     "metadata": {},
     "output_type": "display_data"
    }
   ],
   "source": [
    "# Numeric data with price (pearson)\n",
    "plt.figure(figsize=(10, 4))\n",
    "sns.heatmap(kyozo_training_tmp[['rate','num_of_reviews','Price']].corr(method='pearson'), annot=True, linewidths=0.5);\n",
    "plt.show()"
   ]
  },
  {
   "cell_type": "code",
   "execution_count": 100,
   "metadata": {
    "cell_id": "05af8968112e47d7862f35f3e8364c91",
    "deepnote_cell_type": "code",
    "deepnote_to_be_reexecuted": false,
    "execution_millis": 11,
    "execution_start": 1685700243433,
    "source_hash": "ab157eb5"
   },
   "outputs": [
    {
     "name": "stdout",
     "output_type": "stream",
     "text": [
      "('fac_restaurant', 0.048328745713047995)\n",
      "('fac_gym', 0.257151224586477)\n",
      "('fac_bar', 0.08387899647773668)\n",
      "('fac_swim', 0.3184947592647387)\n",
      "('fac_internet', 0.2320414983109023)\n",
      "('location_Hallerson', 0.01692567657998713)\n",
      "('location_Machlessvile', 0.03838759021682703)\n",
      "('location_Stokol', -0.027456639193179037)\n",
      "('location_Uberlandia', 0.02620605574497787)\n",
      "('location_Ubisville', -0.013058907930175456)\n",
      "('location_Wanderland', -0.028989904754176107)\n",
      "('location_Willsmian', -0.002647647379079158)\n"
     ]
    }
   ],
   "source": [
    "binary_columns = ['fac_restaurant', 'fac_gym', 'fac_bar', 'fac_swim',\n",
    "       'fac_internet', 'location_Hallerson', 'location_Machlessvile', 'location_Stokol',\n",
    "       'location_Uberlandia', 'location_Ubisville', 'location_Wanderland',\n",
    "       'location_Willsmian']\n",
    "\n",
    "correlations = []\n",
    "for col in binary_columns:\n",
    "    correlation, p_value = stats.pointbiserialr(kyozo_training_tmp[col], kyozo_training_tmp['Price'])\n",
    "    correlations.append((col, correlation, p_value))\n",
    "\n",
    "for i in range(len(binary_columns)):\n",
    "    print(correlations[i][:2])"
   ]
  },
  {
   "cell_type": "markdown",
   "metadata": {
    "cell_id": "e79922a9886c4c7c8777381be269060d",
    "deepnote_cell_type": "text-cell-h2",
    "formattedRanges": []
   },
   "source": [
    "## Feature Engineering"
   ]
  },
  {
   "cell_type": "code",
   "execution_count": 101,
   "metadata": {
    "cell_id": "aa95f89944f845069d965ae1f38ffe84",
    "deepnote_cell_type": "code",
    "deepnote_to_be_reexecuted": false,
    "execution_millis": 2,
    "execution_start": 1685700243490,
    "source_hash": "9742a04d"
   },
   "outputs": [],
   "source": [
    "# Based on point-biserrial correlation\n",
    "fac_internet_coef = 23\n",
    "fac_swim_coef = 32\n",
    "fac_bar_coef = 8\n",
    "fac_gym_coef = 26\n",
    "fac_restaurant_coef = 48"
   ]
  },
  {
   "cell_type": "code",
   "execution_count": 102,
   "metadata": {
    "cell_id": "6d4f1ed226eb44c881b3872336df1b66",
    "deepnote_cell_type": "code",
    "deepnote_to_be_reexecuted": false,
    "execution_millis": 47,
    "execution_start": 1685700243491,
    "source_hash": "96936610"
   },
   "outputs": [],
   "source": [
    "# Get the weight of each facilities columns (real value * coef)\n",
    "kyozo_ohe['fac_internet_cost'] = kyozo_ohe['fac_internet'] * fac_internet_coef\n",
    "kyozo_ohe['fac_swim_cost'] = kyozo_ohe['fac_swim'] * fac_swim_coef\n",
    "kyozo_ohe['fac_bar_cost'] = kyozo_ohe['fac_bar'] * fac_bar_coef\n",
    "kyozo_ohe['fac_gym_cost'] = kyozo_ohe['fac_gym'] * fac_gym_coef\n",
    "kyozo_ohe['fac_restaurant_cost'] = kyozo_ohe['fac_restaurant'] * fac_restaurant_coef\n",
    "\n",
    "# Get the total weight of each facilities columns\n",
    "kyozo_ohe['jumlah_fac_cost'] = kyozo_ohe['fac_internet_cost'] + kyozo_ohe['fac_swim_cost'] + kyozo_ohe['fac_bar_cost'] + kyozo_ohe['fac_gym_cost'] + kyozo_ohe['fac_restaurant_cost']"
   ]
  },
  {
   "cell_type": "code",
   "execution_count": 103,
   "metadata": {
    "cell_id": "c103202745cd476a8b0d03fe99ee3a2b",
    "deepnote_cell_type": "code",
    "deepnote_to_be_reexecuted": false,
    "execution_millis": 3,
    "execution_start": 1685700243535,
    "source_hash": "414227d0"
   },
   "outputs": [],
   "source": [
    "# Get the popularity of each places (rate * num of reviews)\n",
    "kyozo_ohe['popularity'] = kyozo_ohe['rate'] * kyozo_ohe['num_of_reviews']"
   ]
  },
  {
   "cell_type": "code",
   "execution_count": 104,
   "metadata": {
    "cell_id": "8bfe4c45d4994343ae94e251bd623259",
    "deepnote_cell_type": "code",
    "deepnote_to_be_reexecuted": false,
    "execution_millis": 3,
    "execution_start": 1685700243546,
    "source_hash": "1e84bcfa"
   },
   "outputs": [],
   "source": [
    "# Get the number of facilities of each rows\n",
    "kyozo_ohe['jumlah_fasilitas'] = kyozo_ohe['fac_restaurant'] + kyozo_ohe['fac_gym'] + kyozo_ohe['fac_swim'] + kyozo_ohe['fac_internet'] + kyozo_ohe['fac_bar']"
   ]
  },
  {
   "cell_type": "code",
   "execution_count": 105,
   "metadata": {
    "cell_id": "042a2c23bd4b415ba16412fbd2fe8865",
    "deepnote_cell_type": "code",
    "deepnote_to_be_reexecuted": false,
    "execution_millis": 7,
    "execution_start": 1685700243552,
    "source_hash": "3fc251aa"
   },
   "outputs": [],
   "source": [
    "# Get the weight of facilities number\n",
    "kyozo_ohe['fasilitas_cost_multiply'] = kyozo_ohe['jumlah_fasilitas'] * kyozo_ohe['jumlah_fac_cost']"
   ]
  },
  {
   "cell_type": "code",
   "execution_count": 106,
   "metadata": {
    "cell_id": "27c1caf54f57444d98ee4dfc54e77920",
    "deepnote_cell_type": "code",
    "deepnote_to_be_reexecuted": false,
    "execution_millis": 3,
    "execution_start": 1685700243603,
    "source_hash": "b514ac4b"
   },
   "outputs": [],
   "source": [
    "# Copy to new variable\n",
    "kyozo_combined = kyozo_ohe.copy()"
   ]
  },
  {
   "cell_type": "code",
   "execution_count": 107,
   "metadata": {
    "cell_id": "9ea454c1491a4bce9e5ed9493264d09a",
    "deepnote_cell_type": "code",
    "deepnote_to_be_reexecuted": false,
    "execution_millis": 46,
    "execution_start": 1685700243603,
    "source_hash": "c536c24"
   },
   "outputs": [],
   "source": [
    "# Assign the features into variable based on their type\n",
    "binary_list = ['fac_restaurant', 'fac_gym', 'fac_bar', 'fac_swim',\n",
    "       'fac_internet', 'location_Hallerson', 'location_Machlessvile', 'location_Stokol',\n",
    "       'location_Uberlandia', 'location_Ubisville', 'location_Wanderland',\n",
    "       'location_Willsmian']\n",
    "\n",
    "numeric_list = ['rate','num_of_reviews','jumlah_fasilitas','fac_internet_cost','fac_gym_cost',\n",
    "        'fac_bar_cost','fac_restaurant_cost','fac_swim_cost','jumlah_fac_cost','popularity',\n",
    "        'fasilitas_cost_multiply']"
   ]
  },
  {
   "cell_type": "markdown",
   "metadata": {
    "cell_id": "b8a63b8c1f1d43c383b60951798ed0b7",
    "deepnote_cell_type": "text-cell-h3",
    "formattedRanges": []
   },
   "source": [
    "### Correlation after Feature Engineering"
   ]
  },
  {
   "cell_type": "code",
   "execution_count": 108,
   "metadata": {
    "cell_id": "bb7679c5a99f4703b7567b8682319d1b",
    "deepnote_cell_type": "code",
    "deepnote_to_be_reexecuted": false,
    "execution_millis": 3,
    "execution_start": 1685700243646,
    "source_hash": "3143f50b"
   },
   "outputs": [],
   "source": [
    "# Split the test set and train set according to the csv lines\n",
    "kyozo_training = kyozo_combined.iloc[:-767,:].copy().drop('ID',axis=1)\n",
    "\n",
    "kyozo_test_X = kyozo_combined.iloc[-767:, :].copy().drop(['Price','ID'], axis=1)\n",
    "kyozo_test_ID = kyozo_combined.iloc[-767:, :]['ID']"
   ]
  },
  {
   "cell_type": "code",
   "execution_count": 109,
   "metadata": {
    "cell_id": "75aeeaf7b69a40978574f53ed1b56658",
    "deepnote_app_is_output_hidden": false,
    "deepnote_cell_type": "code",
    "deepnote_to_be_reexecuted": false,
    "execution_millis": 1948,
    "execution_start": 1685700243650,
    "is_output_hidden": false,
    "source_hash": "c1286926"
   },
   "outputs": [
    {
     "data": {
      "image/png": "[encoded data removed]",
      "text/plain": [
       "<Figure size 1200x600 with 2 Axes>"
      ]
     },
     "metadata": {},
     "output_type": "display_data"
    }
   ],
   "source": [
    "# Numeric data with price (pearson)\n",
    "plt.figure(figsize=(12, 6))\n",
    "sns.heatmap(kyozo_training[numeric_list + ['Price']].corr(method='pearson'), annot=True, linewidths=0.5);\n",
    "plt.show()"
   ]
  },
  {
   "cell_type": "code",
   "execution_count": 110,
   "metadata": {
    "cell_id": "6b3218d8d2dc4d789ea6c4124319773e",
    "deepnote_cell_type": "code",
    "deepnote_to_be_reexecuted": false,
    "execution_millis": 20,
    "execution_start": 1685700245579,
    "source_hash": "6c1ff353"
   },
   "outputs": [],
   "source": [
    "# Custom features\n",
    "custom_features = ['fac_gym_cost','fac_restaurant_cost','fac_internet_cost','fac_swim_cost','fac_bar_cost']"
   ]
  },
  {
   "cell_type": "markdown",
   "metadata": {
    "cell_id": "399073172f2a46de98af891e10b36e0a",
    "deepnote_cell_type": "text-cell-h3",
    "formattedRanges": []
   },
   "source": [
    "### Drop outlier"
   ]
  },
  {
   "cell_type": "code",
   "execution_count": 112,
   "metadata": {},
   "outputs": [],
   "source": [
    "kyozo_training['Price'] = np.log(kyozo_training['Price'])"
   ]
  },
  {
   "cell_type": "code",
   "execution_count": 114,
   "metadata": {
    "cell_id": "c003f34fec8a4de8ba463898ecb4d597",
    "deepnote_cell_type": "code",
    "deepnote_to_be_reexecuted": false,
    "execution_millis": 19,
    "execution_start": 1685700245580,
    "source_hash": "a9ea0356"
   },
   "outputs": [],
   "source": [
    "def find_outliers(data):\n",
    "    bad_indexes = []\n",
    "    column_names = []\n",
    "    for col in data.columns:\n",
    "        if data[col].dtype in [\"int64\",\"float64\"] and col == 'Price':\n",
    "            column_names.append(col)\n",
    "            q1 = data[col].quantile(.25)\n",
    "            q3 = data[col].quantile(.75)\n",
    "            IQR = q3 - q1\n",
    "            ll = q1 - (1.5*IQR)\n",
    "            ul = q3 + (1.5*IQR)\n",
    "            upper_outliers = data[col][data[col] > ul].index.tolist()\n",
    "            lower_outliers = data[col][data[col] < ll].index.tolist()\n",
    "            bad_indices = list(set(upper_outliers + lower_outliers))\n",
    "            bad_indexes.append(bad_indices)\n",
    "    return bad_indexes, column_names"
   ]
  },
  {
   "cell_type": "code",
   "execution_count": 115,
   "metadata": {
    "cell_id": "bcc5bf5025d24aa989165a7691d11158",
    "deepnote_cell_type": "code",
    "deepnote_to_be_reexecuted": false,
    "execution_millis": 37,
    "execution_start": 1685700245581,
    "source_hash": "933a60f9"
   },
   "outputs": [
    {
     "data": {
      "text/html": [
       "<div>\n",
       "<style scoped>\n",
       "    .dataframe tbody tr th:only-of-type {\n",
       "        vertical-align: middle;\n",
       "    }\n",
       "\n",
       "    .dataframe tbody tr th {\n",
       "        vertical-align: top;\n",
       "    }\n",
       "\n",
       "    .dataframe thead th {\n",
       "        text-align: right;\n",
       "    }\n",
       "</style>\n",
       "<table border=\"1\" class=\"dataframe\">\n",
       "  <thead>\n",
       "    <tr style=\"text-align: right;\">\n",
       "      <th></th>\n",
       "      <th>nama_kolom</th>\n",
       "      <th>jumlah_outlier</th>\n",
       "    </tr>\n",
       "  </thead>\n",
       "  <tbody>\n",
       "    <tr>\n",
       "      <th>0</th>\n",
       "      <td>Price</td>\n",
       "      <td>14</td>\n",
       "    </tr>\n",
       "  </tbody>\n",
       "</table>\n",
       "</div>"
      ],
      "text/plain": [
       "  nama_kolom  jumlah_outlier\n",
       "0      Price              14"
      ]
     },
     "execution_count": 115,
     "metadata": {},
     "output_type": "execute_result"
    }
   ],
   "source": [
    "# Check the outliers in training dataset\n",
    "outlier_index, column_names = find_outliers(kyozo_training)\n",
    "    \n",
    "lst_of_lens = []\n",
    "for i in outlier_index:\n",
    "    lst_of_lens.append(len(i))\n",
    "list_tuples = list(zip(column_names, lst_of_lens))\n",
    "\n",
    "df_outlier = pd.DataFrame(list_tuples, columns=['nama_kolom', 'jumlah_outlier'])\n",
    "df_outlier"
   ]
  },
  {
   "cell_type": "code",
   "execution_count": 116,
   "metadata": {
    "cell_id": "874730ef2f1249b796605e6349646820",
    "deepnote_cell_type": "code",
    "deepnote_to_be_reexecuted": false,
    "execution_millis": 23,
    "execution_start": 1685700245631,
    "source_hash": "fcf89caf"
   },
   "outputs": [
    {
     "name": "stdout",
     "output_type": "stream",
     "text": [
      "ukuran sebelum di drop (2286, 25)\n",
      "ukuran setelah di drop (2272, 25)\n"
     ]
    }
   ],
   "source": [
    "# Drop the outliers\n",
    "set_index = set()\n",
    "for i in outlier_index:\n",
    "    for j in i:\n",
    "        set_index.add(j)\n",
    "\n",
    "dropped_kyozo_training = kyozo_training.drop(set_index, axis=0)\n",
    "\n",
    "print(\"ukuran sebelum di drop\", kyozo_training.shape)\n",
    "print(\"ukuran setelah di drop\", dropped_kyozo_training.shape)"
   ]
  },
  {
   "cell_type": "code",
   "execution_count": 117,
   "metadata": {
    "cell_id": "9c807a2082eb4ea79b0abaecdc2c9c8c",
    "deepnote_cell_type": "code",
    "deepnote_to_be_reexecuted": false,
    "execution_millis": 10,
    "execution_start": 1685700245659,
    "source_hash": "ada83379"
   },
   "outputs": [],
   "source": [
    "# Split training data to features and target\n",
    "kyozo_train_X = dropped_kyozo_training.drop(['Price'],axis=1)\n",
    "kyozo_train_Y = dropped_kyozo_training['Price']"
   ]
  },
  {
   "cell_type": "markdown",
   "metadata": {
    "cell_id": "5059ae0aa84a4d89b09cc08089a6b160",
    "deepnote_cell_type": "text-cell-h2",
    "formattedRanges": []
   },
   "source": [
    "## Training"
   ]
  },
  {
   "cell_type": "code",
   "execution_count": 121,
   "metadata": {
    "cell_id": "3caa95938f2848499d885ef8db09dbf7",
    "deepnote_cell_type": "code",
    "deepnote_to_be_reexecuted": false,
    "execution_millis": 37,
    "execution_start": 1685700245788,
    "source_hash": "799efe42"
   },
   "outputs": [],
   "source": [
    "# Split feature and target\n",
    "X = kyozo_train_X.copy()\n",
    "Y = kyozo_train_Y.copy()"
   ]
  },
  {
   "cell_type": "code",
   "execution_count": 123,
   "metadata": {
    "cell_id": "2648eb90541348d397be83b490dbcb5e",
    "deepnote_cell_type": "code",
    "deepnote_to_be_reexecuted": false,
    "execution_millis": 5,
    "execution_start": 1685700245831,
    "source_hash": "6eb41dbf"
   },
   "outputs": [],
   "source": [
    "# Drop unused columns because have low corr\n",
    "X_drop_binary = X.drop(binary_list, axis=1)"
   ]
  },
  {
   "cell_type": "markdown",
   "metadata": {
    "cell_id": "7c4e573cc7b6438d9ec80a8511444a5d",
    "deepnote_cell_type": "text-cell-h3",
    "formattedRanges": []
   },
   "source": [
    "### Feature Selection"
   ]
  },
  {
   "cell_type": "code",
   "execution_count": 125,
   "metadata": {
    "cell_id": "75baca6005f94f5ca2f5c26e90ef662b",
    "deepnote_cell_type": "code",
    "deepnote_to_be_reexecuted": false,
    "execution_millis": 2826,
    "execution_start": 1685700245900,
    "source_hash": "b8aa6a5b"
   },
   "outputs": [
    {
     "name": "stdout",
     "output_type": "stream",
     "text": [
      "MAE: 0.023 (0.010)\n"
     ]
    }
   ],
   "source": [
    "# Feature selection using RFE with DecisionTreeRegressor model\n",
    "rfe = RFE(estimator=DecisionTreeRegressor(random_state=42), n_features_to_select=5)\n",
    "model = DecisionTreeRegressor(random_state=42)\n",
    "pipeline = Pipeline(steps=[('s',rfe),('m',model)])\n",
    "\n",
    "# Evaluate model\n",
    "cv = RepeatedKFold(n_splits=10, n_repeats=3, random_state=1)\n",
    "n_scores = cross_val_score(pipeline, X_drop_binary, Y, scoring='neg_mean_absolute_error', cv=cv, n_jobs=-1, error_score='raise')\n",
    "\n",
    "# Report performance\n",
    "print('MAE: %.3f (%.3f)' % (np.mean(-(n_scores)), np.std(n_scores)))"
   ]
  },
  {
   "cell_type": "code",
   "execution_count": 73,
   "metadata": {
    "cell_id": "036fbe705f754083b2f20204120f9d23",
    "deepnote_cell_type": "code",
    "deepnote_to_be_reexecuted": false,
    "execution_millis": 15,
    "execution_start": 1685700248734,
    "source_hash": "8072e943"
   },
   "outputs": [],
   "source": [
    "# Tried to use gridsearch to get the best parameters\n",
    "param_grid = {\n",
    "    \"criterion\":['squared_error', 'absolute_error', 'poisson'],\n",
    "    \"max_depth\": [3,5,10,15,20,30,40,None],\n",
    "    \"max_leaf_nodes\": [100,200,300,400,500,None],\n",
    "    \"min_samples_split\": [1,2,3,5,10],\n",
    "    \"min_samples_leaf\": [1,2,5],\n",
    "    \"max_features\": ['sqrt', 'log2',None],\n",
    "    \"ccp_alpha\":[0.0,0.01,0.1,0.15,0.2]\n",
    "}\n",
    "\n",
    "clf = DecisionTreeRegressor(random_state=42)\n",
    "grid_cv = GridSearchCV(clf, param_grid, scoring=\"neg_mean_absolute_error\", n_jobs=-1, cv=4).fit(X_train, y_train)"
   ]
  },
  {
   "cell_type": "markdown",
   "metadata": {
    "cell_id": "bf7d2248b2a54ddead30fd5c5c69a554",
    "deepnote_cell_type": "text-cell-p",
    "formattedRanges": []
   },
   "source": [
    "Param for GS {'ccp_alpha': 0.0, 'criterion': 'absolute_error', 'max_depth': 30, 'max_features': None, 'max_leaf_nodes': None, 'min_samples_leaf': 1, 'min_samples_split': 3}\n",
    "CV score for GS -0.029308812115725072\n",
    "Train MAE Score for GS:  0.010920357311125064\n",
    "Test MAE Score for GS:  0.03653388041699337"
   ]
  },
  {
   "cell_type": "code",
   "execution_count": 283,
   "metadata": {
    "cell_id": "5ee677f8bb224802b28073b97fca0797",
    "deepnote_cell_type": "code",
    "deepnote_to_be_reexecuted": false,
    "execution_millis": 1955,
    "execution_start": 1685700248752,
    "source_hash": "d74209f2"
   },
   "outputs": [
    {
     "data": {
      "text/plain": [
       "array(['rate', 'popularity', 'fasilitas_cost_multiply'], dtype=object)"
      ]
     },
     "execution_count": 283,
     "metadata": {},
     "output_type": "execute_result"
    }
   ],
   "source": [
    "rfe = RFE(estimator=DecisionTreeRegressor(random_state=42,\n",
    "    ccp_alpha= 0.00,\n",
    "    criterion= 'absolute_error',\n",
    "    max_depth= 30, max_features= None,\n",
    "    max_leaf_nodes= None, \n",
    "    min_samples_leaf= 1, \n",
    "    min_samples_split= 3), n_features_to_select=3, step=1)\n",
    "rfe.fit(X_drop_binary,Y)\n",
    "X_rfe = rfe.transform(X_drop_binary)\n",
    "\n",
    "# for model selection using pycaret, running on google colab\n",
    "selected_features = X_drop_binary.columns[rfe.support_]\n",
    "df_selected = pd.concat([X_drop_binary[selected_features], Y], axis=1)\n",
    "\n",
    "rfe.get_feature_names_out()"
   ]
  },
  {
   "cell_type": "code",
   "execution_count": 284,
   "metadata": {
    "cell_id": "8ef0ab65c6964063b9aa17a5ceb96db7",
    "deepnote_cell_type": "code",
    "deepnote_to_be_reexecuted": false,
    "execution_millis": 19,
    "execution_start": 1685700250695,
    "source_hash": "b84027fe"
   },
   "outputs": [],
   "source": [
    "# # Running on google colab\n",
    "# _ = setup(data=df_selected, target='Price')\n",
    "# compare_models()"
   ]
  },
  {
   "cell_type": "markdown",
   "metadata": {
    "cell_id": "5ce8612b131f46deba092fc1eaecc089",
    "deepnote_cell_type": "text-cell-h3",
    "formattedRanges": []
   },
   "source": [
    "### Train Test Split"
   ]
  },
  {
   "cell_type": "code",
   "execution_count": 285,
   "metadata": {
    "cell_id": "676da1ba9fe146e3a60e71a2c6f33c9d",
    "deepnote_cell_type": "code",
    "deepnote_to_be_reexecuted": false,
    "execution_millis": 13,
    "execution_start": 1685700250718,
    "source_hash": "d08b559"
   },
   "outputs": [],
   "source": [
    "# Split train test for RFE\n",
    "X_train, X_test, y_train, y_test = train_test_split(X_rfe, Y, test_size=0.2, random_state=42)"
   ]
  },
  {
   "cell_type": "code",
   "execution_count": 286,
   "metadata": {
    "cell_id": "43ff6d928a474fc09a6620263c9b12dd",
    "deepnote_cell_type": "code",
    "deepnote_to_be_reexecuted": false,
    "execution_millis": 28,
    "execution_start": 1685700250735,
    "source_hash": "5a48e47b"
   },
   "outputs": [
    {
     "data": {
      "text/html": [
       "<style>#sk-container-id-5 {color: black;background-color: white;}#sk-container-id-5 pre{padding: 0;}#sk-container-id-5 div.sk-toggleable {background-color: white;}#sk-container-id-5 label.sk-toggleable__label {cursor: pointer;display: block;width: 100%;margin-bottom: 0;padding: 0.3em;box-sizing: border-box;text-align: center;}#sk-container-id-5 label.sk-toggleable__label-arrow:before {content: \"▸\";float: left;margin-right: 0.25em;color: #696969;}#sk-container-id-5 label.sk-toggleable__label-arrow:hover:before {color: black;}#sk-container-id-5 div.sk-estimator:hover label.sk-toggleable__label-arrow:before {color: black;}#sk-container-id-5 div.sk-toggleable__content {max-height: 0;max-width: 0;overflow: hidden;text-align: left;background-color: #f0f8ff;}#sk-container-id-5 div.sk-toggleable__content pre {margin: 0.2em;color: black;border-radius: 0.25em;background-color: #f0f8ff;}#sk-container-id-5 input.sk-toggleable__control:checked~div.sk-toggleable__content {max-height: 200px;max-width: 100%;overflow: auto;}#sk-container-id-5 input.sk-toggleable__control:checked~label.sk-toggleable__label-arrow:before {content: \"▾\";}#sk-container-id-5 div.sk-estimator input.sk-toggleable__control:checked~label.sk-toggleable__label {background-color: #d4ebff;}#sk-container-id-5 div.sk-label input.sk-toggleable__control:checked~label.sk-toggleable__label {background-color: #d4ebff;}#sk-container-id-5 input.sk-hidden--visually {border: 0;clip: rect(1px 1px 1px 1px);clip: rect(1px, 1px, 1px, 1px);height: 1px;margin: -1px;overflow: hidden;padding: 0;position: absolute;width: 1px;}#sk-container-id-5 div.sk-estimator {font-family: monospace;background-color: #f0f8ff;border: 1px dotted black;border-radius: 0.25em;box-sizing: border-box;margin-bottom: 0.5em;}#sk-container-id-5 div.sk-estimator:hover {background-color: #d4ebff;}#sk-container-id-5 div.sk-parallel-item::after {content: \"\";width: 100%;border-bottom: 1px solid gray;flex-grow: 1;}#sk-container-id-5 div.sk-label:hover label.sk-toggleable__label {background-color: #d4ebff;}#sk-container-id-5 div.sk-serial::before {content: \"\";position: absolute;border-left: 1px solid gray;box-sizing: border-box;top: 0;bottom: 0;left: 50%;z-index: 0;}#sk-container-id-5 div.sk-serial {display: flex;flex-direction: column;align-items: center;background-color: white;padding-right: 0.2em;padding-left: 0.2em;position: relative;}#sk-container-id-5 div.sk-item {position: relative;z-index: 1;}#sk-container-id-5 div.sk-parallel {display: flex;align-items: stretch;justify-content: center;background-color: white;position: relative;}#sk-container-id-5 div.sk-item::before, #sk-container-id-5 div.sk-parallel-item::before {content: \"\";position: absolute;border-left: 1px solid gray;box-sizing: border-box;top: 0;bottom: 0;left: 50%;z-index: -1;}#sk-container-id-5 div.sk-parallel-item {display: flex;flex-direction: column;z-index: 1;position: relative;background-color: white;}#sk-container-id-5 div.sk-parallel-item:first-child::after {align-self: flex-end;width: 50%;}#sk-container-id-5 div.sk-parallel-item:last-child::after {align-self: flex-start;width: 50%;}#sk-container-id-5 div.sk-parallel-item:only-child::after {width: 0;}#sk-container-id-5 div.sk-dashed-wrapped {border: 1px dashed gray;margin: 0 0.4em 0.5em 0.4em;box-sizing: border-box;padding-bottom: 0.4em;background-color: white;}#sk-container-id-5 div.sk-label label {font-family: monospace;font-weight: bold;display: inline-block;line-height: 1.2em;}#sk-container-id-5 div.sk-label-container {text-align: center;}#sk-container-id-5 div.sk-container {/* jupyter's `normalize.less` sets `[hidden] { display: none; }` but bootstrap.min.css set `[hidden] { display: none !important; }` so we also need the `!important` here to be able to override the default hidden behavior on the sphinx rendered scikit-learn.org. See: https://github.com/scikit-learn/scikit-learn/issues/21755 */display: inline-block !important;position: relative;}#sk-container-id-5 div.sk-text-repr-fallback {display: none;}</style><div id=\"sk-container-id-5\" class=\"sk-top-container\"><div class=\"sk-text-repr-fallback\"><pre>StandardScaler()</pre><b>In a Jupyter environment, please rerun this cell to show the HTML representation or trust the notebook. <br />On GitHub, the HTML representation is unable to render, please try loading this page with nbviewer.org.</b></div><div class=\"sk-container\" hidden><div class=\"sk-item\"><div class=\"sk-estimator sk-toggleable\"><input class=\"sk-toggleable__control sk-hidden--visually\" id=\"sk-estimator-id-5\" type=\"checkbox\" checked><label for=\"sk-estimator-id-5\" class=\"sk-toggleable__label sk-toggleable__label-arrow\">StandardScaler</label><div class=\"sk-toggleable__content\"><pre>StandardScaler()</pre></div></div></div></div></div>"
      ],
      "text/plain": [
       "StandardScaler()"
      ]
     },
     "execution_count": 286,
     "metadata": {},
     "output_type": "execute_result"
    }
   ],
   "source": [
    "scaler = StandardScaler()\n",
    "scaler.fit(X_train)"
   ]
  },
  {
   "cell_type": "code",
   "execution_count": 287,
   "metadata": {
    "cell_id": "ca487485e7564ec89a0bf651c165451e",
    "deepnote_cell_type": "code",
    "deepnote_to_be_reexecuted": false,
    "execution_millis": 4,
    "execution_start": 1685700250775,
    "source_hash": "2a32ea04"
   },
   "outputs": [],
   "source": [
    "X_train = scaler.transform(X_train)\n",
    "X_test = scaler.transform(X_test)"
   ]
  },
  {
   "cell_type": "code",
   "execution_count": 288,
   "metadata": {
    "cell_id": "696e910381c1451690ae89332326d639",
    "deepnote_cell_type": "code",
    "deepnote_to_be_reexecuted": false,
    "execution_millis": 12,
    "execution_start": 1685700250781,
    "source_hash": "ad2366a4"
   },
   "outputs": [],
   "source": [
    "def eval(train, test, predict_train, predict_test):\n",
    "    print('MAE Train: ', mean_absolute_error(train, predict_train))\n",
    "    print('MAE Test: ', mean_absolute_error(test, predict_test))\n",
    "    print('MAE Train exp: ', mean_absolute_error(np.exp(train), np.exp(predict_train)))\n",
    "    print('MAE Test exp: ', mean_absolute_error(np.exp(test), np.exp(predict_test)))"
   ]
  },
  {
   "cell_type": "markdown",
   "metadata": {
    "cell_id": "9a7eef3b287c4b1c965952a135bf98a0",
    "deepnote_cell_type": "text-cell-h3",
    "formattedRanges": []
   },
   "source": [
    "### Decision Tree Reg"
   ]
  },
  {
   "cell_type": "code",
   "execution_count": 289,
   "metadata": {},
   "outputs": [
    {
     "name": "stdout",
     "output_type": "stream",
     "text": [
      "Evaluation using features from RFE:\n",
      "MAE Train:  0.011117102414328608\n",
      "MAE Test:  0.04487049652131421\n",
      "MAE Train exp:  117.33626857457355\n",
      "MAE Test exp:  619.7761859234195\n"
     ]
    }
   ],
   "source": [
    "# DTR using RFE\n",
    "dtr = DecisionTreeRegressor(random_state=42,\n",
    "    ccp_alpha= 0.00,\n",
    "    criterion= 'absolute_error',\n",
    "    max_depth= 30, max_features= None,\n",
    "    max_leaf_nodes= None, \n",
    "    min_samples_leaf= 1, \n",
    "    min_samples_split= 3)\n",
    "dtr.fit(X_train, y_train)\n",
    "dtr_predict_train = dtr.predict(X_train)\n",
    "dtr_predict_test = dtr.predict(X_test)\n",
    "\n",
    "# Evaluation Metrics\n",
    "print('Evaluation using features from RFE:')\n",
    "eval(y_train, y_test, dtr_predict_train, dtr_predict_test)"
   ]
  },
  {
   "cell_type": "markdown",
   "metadata": {
    "cell_id": "ce76735d2238498a83ecda3ade1f3063",
    "deepnote_cell_type": "text-cell-h3",
    "formattedRanges": []
   },
   "source": [
    "### Linear Regression"
   ]
  },
  {
   "cell_type": "code",
   "execution_count": 290,
   "metadata": {
    "cell_id": "f460893f7ce944f0b96ad77311a3a1c4",
    "deepnote_cell_type": "code",
    "deepnote_to_be_reexecuted": false,
    "execution_millis": 8,
    "execution_start": 1685700251201,
    "is_code_hidden": false,
    "source_hash": "f504c0f6"
   },
   "outputs": [
    {
     "name": "stdout",
     "output_type": "stream",
     "text": [
      "Evaluation using features from RFE:\n",
      "MAE Train:  0.48723288689298266\n",
      "MAE Test:  0.48182530859988404\n",
      "MAE Train exp:  9272.854092948823\n",
      "MAE Test exp:  8867.233060173392\n"
     ]
    }
   ],
   "source": [
    "# LR using RFE\n",
    "lr = LinearRegression()\n",
    "lr.fit(X_train, y_train)\n",
    "lr_predict_train = lr.predict(X_train)\n",
    "lr_predict_test = lr.predict(X_test)\n",
    "\n",
    "# Evaluation Metrics\n",
    "print('Evaluation using features from RFE:')\n",
    "eval(y_train, y_test, lr_predict_train, lr_predict_test)"
   ]
  },
  {
   "cell_type": "markdown",
   "metadata": {
    "cell_id": "a4a24359af3b4a4d928fdd5f0145e608",
    "deepnote_cell_type": "text-cell-h3",
    "formattedRanges": []
   },
   "source": [
    "### Random Forest"
   ]
  },
  {
   "cell_type": "code",
   "execution_count": 291,
   "metadata": {
    "cell_id": "ecb0f77569cd4188b50d63829607e933",
    "deepnote_cell_type": "code",
    "deepnote_to_be_reexecuted": false,
    "execution_millis": 749,
    "execution_start": 1685700251867,
    "source_hash": "776640dd"
   },
   "outputs": [
    {
     "name": "stdout",
     "output_type": "stream",
     "text": [
      "Evaluation using features from RFE:\n",
      "MAE Train:  0.02373880309342345\n",
      "MAE Test:  0.05723457920443566\n",
      "MAE Train exp:  280.7505978063257\n",
      "MAE Test exp:  794.6373865901446\n"
     ]
    }
   ],
   "source": [
    "# RF using RFE\n",
    "rfr = RandomForestRegressor(random_state=42)\n",
    "rfr.fit(X_train, y_train)\n",
    "rfr_predict_train = rfr.predict(X_train)\n",
    "rfr_predict_test = rfr.predict(X_test)\n",
    "\n",
    "# Evaluation Metrics\n",
    "print('Evaluation using features from RFE:')\n",
    "eval(y_train, y_test, rfr_predict_train, rfr_predict_test)"
   ]
  },
  {
   "cell_type": "markdown",
   "metadata": {
    "cell_id": "c071fa2053af48bf8cea726aeb401b38",
    "deepnote_cell_type": "text-cell-h3",
    "formattedRanges": []
   },
   "source": [
    "### XGB"
   ]
  },
  {
   "cell_type": "code",
   "execution_count": 292,
   "metadata": {
    "cell_id": "88397602f49640528118a8e81bcd3b58",
    "deepnote_cell_type": "code",
    "deepnote_to_be_reexecuted": false,
    "execution_millis": 242,
    "execution_start": 1685700252825,
    "source_hash": "628fee3f"
   },
   "outputs": [
    {
     "name": "stdout",
     "output_type": "stream",
     "text": [
      "Evaluation using features from RFE:\n",
      "MAE Train:  0.028238242411309154\n",
      "MAE Test:  0.0493796743215351\n",
      "MAE Train exp:  431.4180969339059\n",
      "MAE Test exp:  695.6538187886325\n"
     ]
    }
   ],
   "source": [
    "# XG Boost\n",
    "xg = XGBRegressor(random_state=42)\n",
    "xg.fit(X_train, y_train)\n",
    "xg_predict_train = xg.predict(X_train)\n",
    "xg_predict_test = xg.predict(X_test)\n",
    "\n",
    "# Evaluation Metrics\n",
    "print('Evaluation using features from RFE:')\n",
    "eval(y_train, y_test, xg_predict_train, xg_predict_test)"
   ]
  },
  {
   "cell_type": "markdown",
   "metadata": {
    "cell_id": "3f06512db0064c188e032a9d316e2fa9",
    "deepnote_cell_type": "text-cell-h3",
    "formattedRanges": []
   },
   "source": [
    "### Extra Trees Regressor"
   ]
  },
  {
   "cell_type": "code",
   "execution_count": 293,
   "metadata": {
    "cell_id": "19f46ec5fc5d4a4fb10026b536cac260",
    "deepnote_cell_type": "code",
    "deepnote_to_be_reexecuted": false,
    "execution_millis": 484,
    "execution_start": 1685700253559,
    "source_hash": "c1fa2322"
   },
   "outputs": [
    {
     "name": "stdout",
     "output_type": "stream",
     "text": [
      "Evaluation using features from select RFE:\n",
      "MAE Train:  0.014224696522322635\n",
      "MAE Test:  0.035250401653081916\n",
      "MAE Train exp:  147.01767510873123\n",
      "MAE Test exp:  394.9670206213502\n"
     ]
    }
   ],
   "source": [
    "# XTR RFE\n",
    "xtr = ExtraTreesRegressor()\n",
    "xtr.fit(X_train, y_train)\n",
    "xtr_predict_train = xtr.predict(X_train)\n",
    "xtr_predict_test = xtr.predict(X_test)\n",
    "\n",
    "# Evaluation Metrics\n",
    "print('Evaluation using features from select RFE:')\n",
    "eval(y_train, y_test, xtr_predict_train, xtr_predict_test)"
   ]
  },
  {
   "cell_type": "markdown",
   "metadata": {
    "cell_id": "678c3592cb54426ab487a58bea7b76b2",
    "deepnote_cell_type": "text-cell-h2",
    "formattedRanges": []
   },
   "source": [
    "## SUBMISI"
   ]
  },
  {
   "cell_type": "code",
   "execution_count": 295,
   "metadata": {
    "cell_id": "e4ff599774474739b226a63e6cfbebf5",
    "deepnote_cell_type": "code",
    "deepnote_to_be_reexecuted": false,
    "execution_millis": 74,
    "execution_start": 1685700254045,
    "source_hash": "b205fd92"
   },
   "outputs": [],
   "source": [
    "kyozo_test = kyozo_test_X[rfe.get_feature_names_out()]"
   ]
  },
  {
   "cell_type": "code",
   "execution_count": 296,
   "metadata": {},
   "outputs": [
    {
     "data": {
      "text/html": [
       "<div>\n",
       "<style scoped>\n",
       "    .dataframe tbody tr th:only-of-type {\n",
       "        vertical-align: middle;\n",
       "    }\n",
       "\n",
       "    .dataframe tbody tr th {\n",
       "        vertical-align: top;\n",
       "    }\n",
       "\n",
       "    .dataframe thead th {\n",
       "        text-align: right;\n",
       "    }\n",
       "</style>\n",
       "<table border=\"1\" class=\"dataframe\">\n",
       "  <thead>\n",
       "    <tr style=\"text-align: right;\">\n",
       "      <th></th>\n",
       "      <th>rate</th>\n",
       "      <th>popularity</th>\n",
       "      <th>fasilitas_cost_multiply</th>\n",
       "    </tr>\n",
       "  </thead>\n",
       "  <tbody>\n",
       "    <tr>\n",
       "      <th>2309</th>\n",
       "      <td>8.0</td>\n",
       "      <td>8.0</td>\n",
       "      <td>685</td>\n",
       "    </tr>\n",
       "    <tr>\n",
       "      <th>2310</th>\n",
       "      <td>7.4</td>\n",
       "      <td>162.8</td>\n",
       "      <td>685</td>\n",
       "    </tr>\n",
       "    <tr>\n",
       "      <th>2311</th>\n",
       "      <td>0.0</td>\n",
       "      <td>0.0</td>\n",
       "      <td>356</td>\n",
       "    </tr>\n",
       "    <tr>\n",
       "      <th>2312</th>\n",
       "      <td>6.8</td>\n",
       "      <td>88.4</td>\n",
       "      <td>685</td>\n",
       "    </tr>\n",
       "    <tr>\n",
       "      <th>2313</th>\n",
       "      <td>0.0</td>\n",
       "      <td>0.0</td>\n",
       "      <td>685</td>\n",
       "    </tr>\n",
       "    <tr>\n",
       "      <th>...</th>\n",
       "      <td>...</td>\n",
       "      <td>...</td>\n",
       "      <td>...</td>\n",
       "    </tr>\n",
       "    <tr>\n",
       "      <th>3071</th>\n",
       "      <td>8.1</td>\n",
       "      <td>72.9</td>\n",
       "      <td>456</td>\n",
       "    </tr>\n",
       "    <tr>\n",
       "      <th>3072</th>\n",
       "      <td>8.0</td>\n",
       "      <td>32.0</td>\n",
       "      <td>685</td>\n",
       "    </tr>\n",
       "    <tr>\n",
       "      <th>3073</th>\n",
       "      <td>7.4</td>\n",
       "      <td>140.6</td>\n",
       "      <td>685</td>\n",
       "    </tr>\n",
       "    <tr>\n",
       "      <th>3074</th>\n",
       "      <td>9.0</td>\n",
       "      <td>153.0</td>\n",
       "      <td>685</td>\n",
       "    </tr>\n",
       "    <tr>\n",
       "      <th>3075</th>\n",
       "      <td>6.9</td>\n",
       "      <td>144.9</td>\n",
       "      <td>685</td>\n",
       "    </tr>\n",
       "  </tbody>\n",
       "</table>\n",
       "<p>767 rows × 3 columns</p>\n",
       "</div>"
      ],
      "text/plain": [
       "      rate  popularity  fasilitas_cost_multiply\n",
       "2309   8.0         8.0                      685\n",
       "2310   7.4       162.8                      685\n",
       "2311   0.0         0.0                      356\n",
       "2312   6.8        88.4                      685\n",
       "2313   0.0         0.0                      685\n",
       "...    ...         ...                      ...\n",
       "3071   8.1        72.9                      456\n",
       "3072   8.0        32.0                      685\n",
       "3073   7.4       140.6                      685\n",
       "3074   9.0       153.0                      685\n",
       "3075   6.9       144.9                      685\n",
       "\n",
       "[767 rows x 3 columns]"
      ]
     },
     "execution_count": 296,
     "metadata": {},
     "output_type": "execute_result"
    }
   ],
   "source": [
    "kyozo_test"
   ]
  },
  {
   "cell_type": "code",
   "execution_count": 297,
   "metadata": {},
   "outputs": [],
   "source": [
    "kyozo_test_X_scaled = pd.DataFrame(scaler.transform(kyozo_test), index=kyozo_test.index, columns=kyozo_test.columns)"
   ]
  },
  {
   "cell_type": "code",
   "execution_count": 307,
   "metadata": {
    "cell_id": "0e5fd122e99142bfadf4c7456fbcd480",
    "deepnote_cell_type": "code",
    "deepnote_to_be_reexecuted": false,
    "execution_millis": 48,
    "execution_start": 1685700254154,
    "source_hash": "1aa44277"
   },
   "outputs": [],
   "source": [
    "predictions_log = rfr.predict(kyozo_test_X_scaled)"
   ]
  },
  {
   "cell_type": "code",
   "execution_count": 308,
   "metadata": {
    "cell_id": "5b11ea88e0ce446b8aaece7ec474b14c",
    "deepnote_cell_type": "code",
    "deepnote_to_be_reexecuted": false,
    "execution_millis": 9,
    "execution_start": 1685700254221,
    "source_hash": "3b4588e6"
   },
   "outputs": [],
   "source": [
    "predictions = np.exp(predictions_log)"
   ]
  },
  {
   "cell_type": "code",
   "execution_count": 309,
   "metadata": {
    "cell_id": "ae4dd1b2cf2d49dab3aa6226927037fe",
    "deepnote_cell_type": "code",
    "deepnote_to_be_reexecuted": false,
    "execution_millis": 3,
    "execution_start": 1685700254274,
    "source_hash": "eb9439b2"
   },
   "outputs": [],
   "source": [
    "df = pd.DataFrame()\n",
    "df['ID'] = kyozo_test_ID\n",
    "df['Price'] = predictions"
   ]
  },
  {
   "cell_type": "code",
   "execution_count": 310,
   "metadata": {
    "cell_id": "08de104778df4210a364ebed56e2971f",
    "deepnote_cell_type": "code",
    "deepnote_to_be_reexecuted": false,
    "execution_millis": 2,
    "execution_start": 1685700254275,
    "source_hash": "285e1ed2"
   },
   "outputs": [
    {
     "data": {
      "text/html": [
       "<div>\n",
       "<style scoped>\n",
       "    .dataframe tbody tr th:only-of-type {\n",
       "        vertical-align: middle;\n",
       "    }\n",
       "\n",
       "    .dataframe tbody tr th {\n",
       "        vertical-align: top;\n",
       "    }\n",
       "\n",
       "    .dataframe thead th {\n",
       "        text-align: right;\n",
       "    }\n",
       "</style>\n",
       "<table border=\"1\" class=\"dataframe\">\n",
       "  <thead>\n",
       "    <tr style=\"text-align: right;\">\n",
       "      <th></th>\n",
       "      <th>ID</th>\n",
       "      <th>Price</th>\n",
       "    </tr>\n",
       "  </thead>\n",
       "  <tbody>\n",
       "    <tr>\n",
       "      <th>2309</th>\n",
       "      <td>0</td>\n",
       "      <td>23813</td>\n",
       "    </tr>\n",
       "    <tr>\n",
       "      <th>2310</th>\n",
       "      <td>1</td>\n",
       "      <td>25519</td>\n",
       "    </tr>\n",
       "    <tr>\n",
       "      <th>2311</th>\n",
       "      <td>2</td>\n",
       "      <td>18856</td>\n",
       "    </tr>\n",
       "    <tr>\n",
       "      <th>2312</th>\n",
       "      <td>3</td>\n",
       "      <td>9822</td>\n",
       "    </tr>\n",
       "    <tr>\n",
       "      <th>2313</th>\n",
       "      <td>4</td>\n",
       "      <td>24380</td>\n",
       "    </tr>\n",
       "  </tbody>\n",
       "</table>\n",
       "</div>"
      ],
      "text/plain": [
       "      ID  Price\n",
       "2309   0  23813\n",
       "2310   1  25519\n",
       "2311   2  18856\n",
       "2312   3   9822\n",
       "2313   4  24380"
      ]
     },
     "execution_count": 310,
     "metadata": {},
     "output_type": "execute_result"
    }
   ],
   "source": [
    "result = df.astype('int')\n",
    "result.head()"
   ]
  },
  {
   "cell_type": "code",
   "execution_count": 311,
   "metadata": {
    "cell_id": "628fe84a24314085baca427a66ea7335",
    "deepnote_cell_type": "code",
    "deepnote_to_be_reexecuted": false,
    "execution_millis": 48,
    "execution_start": 1685700254358,
    "source_hash": "b693ffb3"
   },
   "outputs": [],
   "source": [
    "# result.to_csv('test8.csv',index=False)"
   ]
  },
  {
   "cell_type": "code",
   "execution_count": 97,
   "metadata": {
    "cell_id": "05e444ddab524e6993ede612170b3599",
    "deepnote_cell_type": "code",
    "deepnote_to_be_reexecuted": false,
    "execution_millis": 1,
    "execution_start": 1685700254446,
    "source_hash": "da017e8b"
   },
   "outputs": [],
   "source": [
    "# ----FINISH----"
   ]
  },
  {
   "cell_type": "markdown",
   "metadata": {
    "created_in_deepnote_cell": true,
    "deepnote_cell_type": "markdown"
   },
   "source": [
    "<a style='text-decoration:none;line-height:16px;display:flex;color:#5B5B62;padding:10px;justify-content:end;' href='https://deepnote.com?utm_source=created-in-deepnote-cell&projectId=c5ca1f0b-b267-41d3-8cca-2b97cce44ef4' target=\"_blank\">\n",
    "<img alt='Created in deepnote.com' style='display:inline;max-height:16px;margin:0px;margin-right:7.5px;' src='data:image/svg+xml;base64,PD94bWwgdmVyc2lvbj0iMS4wIiBlbmNvZGluZz0iVVRGLTgiPz4KPHN2ZyB3aWR0aD0iODBweCIgaGVpZ2h0PSI4MHB4IiB2aWV3Qm94PSIwIDAgODAgODAiIHZlcnNpb249IjEuMSIgeG1sbnM9Imh0dHA6Ly93d3cudzMub3JnLzIwMDAvc3ZnIiB4bWxuczp4bGluaz0iaHR0cDovL3d3dy53My5vcmcvMTk5OS94bGluayI+CiAgICA8IS0tIEdlbmVyYXRvcjogU2tldGNoIDU0LjEgKDc2NDkwKSAtIGh0dHBzOi8vc2tldGNoYXBwLmNvbSAtLT4KICAgIDx0aXRsZT5Hcm91cCAzPC90aXRsZT4KICAgIDxkZXNjPkNyZWF0ZWQgd2l0aCBTa2V0Y2guPC9kZXNjPgogICAgPGcgaWQ9IkxhbmRpbmciIHN0cm9rZT0ibm9uZSIgc3Ryb2tlLXdpZHRoPSIxIiBmaWxsPSJub25lIiBmaWxsLXJ1bGU9ImV2ZW5vZGQiPgogICAgICAgIDxnIGlkPSJBcnRib2FyZCIgdHJhbnNmb3JtPSJ0cmFuc2xhdGUoLTEyMzUuMDAwMDAwLCAtNzkuMDAwMDAwKSI+CiAgICAgICAgICAgIDxnIGlkPSJHcm91cC0zIiB0cmFuc2Zvcm09InRyYW5zbGF0ZSgxMjM1LjAwMDAwMCwgNzkuMDAwMDAwKSI+CiAgICAgICAgICAgICAgICA8cG9seWdvbiBpZD0iUGF0aC0yMCIgZmlsbD0iIzAyNjVCNCIgcG9pbnRzPSIyLjM3NjIzNzYyIDgwIDM4LjA0NzY2NjcgODAgNTcuODIxNzgyMiA3My44MDU3NTkyIDU3LjgyMTc4MjIgMzIuNzU5MjczOSAzOS4xNDAyMjc4IDMxLjY4MzE2ODMiPjwvcG9seWdvbj4KICAgICAgICAgICAgICAgIDxwYXRoIGQ9Ik0zNS4wMDc3MTgsODAgQzQyLjkwNjIwMDcsNzYuNDU0OTM1OCA0Ny41NjQ5MTY3LDcxLjU0MjI2NzEgNDguOTgzODY2LDY1LjI2MTk5MzkgQzUxLjExMjI4OTksNTUuODQxNTg0MiA0MS42NzcxNzk1LDQ5LjIxMjIyODQgMjUuNjIzOTg0Niw0OS4yMTIyMjg0IEMyNS40ODQ5Mjg5LDQ5LjEyNjg0NDggMjkuODI2MTI5Niw0My4yODM4MjQ4IDM4LjY0NzU4NjksMzEuNjgzMTY4MyBMNzIuODcxMjg3MSwzMi41NTQ0MjUgTDY1LjI4MDk3Myw2Ny42NzYzNDIxIEw1MS4xMTIyODk5LDc3LjM3NjE0NCBMMzUuMDA3NzE4LDgwIFoiIGlkPSJQYXRoLTIyIiBmaWxsPSIjMDAyODY4Ij48L3BhdGg+CiAgICAgICAgICAgICAgICA8cGF0aCBkPSJNMCwzNy43MzA0NDA1IEwyNy4xMTQ1MzcsMC4yNTcxMTE0MzYgQzYyLjM3MTUxMjMsLTEuOTkwNzE3MDEgODAsMTAuNTAwMzkyNyA4MCwzNy43MzA0NDA1IEM4MCw2NC45NjA0ODgyIDY0Ljc3NjUwMzgsNzkuMDUwMzQxNCAzNC4zMjk1MTEzLDgwIEM0Ny4wNTUzNDg5LDc3LjU2NzA4MDggNTMuNDE4MjY3Nyw3MC4zMTM2MTAzIDUzLjQxODI2NzcsNTguMjM5NTg4NSBDNTMuNDE4MjY3Nyw0MC4xMjg1NTU3IDM2LjMwMzk1NDQsMzcuNzMwNDQwNSAyNS4yMjc0MTcsMzcuNzMwNDQwNSBDMTcuODQzMDU4NiwzNy43MzA0NDA1IDkuNDMzOTE5NjYsMzcuNzMwNDQwNSAwLDM3LjczMDQ0MDUgWiIgaWQ9IlBhdGgtMTkiIGZpbGw9IiMzNzkzRUYiPjwvcGF0aD4KICAgICAgICAgICAgPC9nPgogICAgICAgIDwvZz4KICAgIDwvZz4KPC9zdmc+' > </img>\n",
    "Created in <span style='font-weight:600;margin-left:4px;'>Deepnote</span></a>"
   ]
  }
 ],
 "metadata": {
  "deepnote": {},
  "deepnote_execution_queue": [],
  "deepnote_notebook_id": "28ca8e79eecb4cf69978c47ff4da404c",
  "deepnote_persisted_session": {
   "createdAt": "2023-05-30T00:17:08.213Z"
  },
  "kernelspec": {
   "display_name": "Python 3 (ipykernel)",
   "language": "python",
   "name": "python3"
  },
  "language_info": {
   "codemirror_mode": {
    "name": "ipython",
    "version": 3
   },
   "file_extension": ".py",
   "mimetype": "text/x-python",
   "name": "python",
   "nbconvert_exporter": "python",
   "pygments_lexer": "ipython3",
   "version": "3.9.12"
  }
 },
 "nbformat": 4,
 "nbformat_minor": 1
}
